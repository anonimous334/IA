{
  "nbformat": 4,
  "nbformat_minor": 0,
  "metadata": {
    "colab": {
      "name": "Lab_3_IA.ipynb",
      "provenance": [],
      "collapsed_sections": []
    },
    "kernelspec": {
      "name": "python3",
      "display_name": "Python 3"
    },
    "language_info": {
      "name": "python"
    }
  },
  "cells": [
    {
      "cell_type": "code",
      "metadata": {
        "id": "27VNQZGutP67"
      },
      "source": [
        "from copy import copy, deepcopy\n",
        "from itertools import combinations"
      ],
      "execution_count": 2,
      "outputs": []
    },
    {
      "cell_type": "code",
      "metadata": {
        "id": "m-FD-4nQtYcI"
      },
      "source": [
        "VarsA = [\"A\", \"B\", \"C\", \"D\", \"E\"]\n",
        "DomainsA = {v: [i for i in range(10)] for v in VarsA}\n",
        "ConstraintsA = [(list(p), lambda x,y: x != y) for p in combinations(VarsA, 2)] # toate valorile diferite\n",
        "ConstraintsA.append(([\"A\",\"B\"], lambda a, b: a + b == 10))\n",
        "ConstraintsA.append(([\"B\",\"D\"], lambda b, d: b + d == 6))\n",
        "ConstraintsA.append(([\"C\"], lambda c: c < 5))\n",
        "ConstraintsA.append(([\"A\"], lambda a: a > 5))\n",
        "ConstraintsA.append(([\"A\",\"B\",\"C\",\"D\",\"E\"], lambda a, b, c, d, e: a + b + c + d + e == 30))\n",
        "MathProblem = {\"Vars\": VarsA, \"Domains\": DomainsA, \"Constraints\": ConstraintsA}"
      ],
      "execution_count": 3,
      "outputs": []
    },
    {
      "cell_type": "code",
      "metadata": {
        "id": "85iXP4oUtaql"
      },
      "source": [
        "VarsC = [\"France\", \"Germany\", \"Loux\", \"Belgium\", \"Netherlands\"]\n",
        "DomainsC = {v: [\"blue\", \"red\", \"yellow\", \"green\"] for v in VarsC}\n",
        "ConstraintsC = []\n",
        "for (a, b) in [(\"France\", \"Germany\"), (\"France\", \"Belgium\"), (\"France\", \"Loux\"),\n",
        "               (\"Belgium\", \"Netherlands\"), (\"Belgium\", \"Loux\"), (\"Belgium\", \"Germany\"),\n",
        "               (\"Loux\", \"Germany\"), (\"Netherlands\", \"Germany\")]:\n",
        "    ConstraintsC.append(([a, b], lambda a, b: a != b))\n",
        "ColoringProblem = {\"Vars\": VarsC, \"Domains\": DomainsC, \"Constraints\": ConstraintsC}"
      ],
      "execution_count": 4,
      "outputs": []
    },
    {
      "cell_type": "code",
      "metadata": {
        "id": "XeQJM1LftgzY"
      },
      "source": [
        "Nr_A = 2\n",
        "Nr_B = 2\n",
        "Nr_C = 1\n",
        "Nr_D = 2\n",
        "Nr_total = Nr_A + Nr_B + Nr_C + Nr_D\n",
        "\n",
        "VarsCar=[\"Car_\" + str(i+1) for i in range(Nr_total)]\n",
        "DomainsCar={v: [\"TypeA\", \"TypeB\", \"TypeC\", \"TypeD\"] for v in VarsCar}\n",
        "\n",
        "CarSetup = {\n",
        "    \"TypeA\" : [\"AC\", \"PowerBrakes\", \"Radio\"],\n",
        "    \"TypeB\" : [\"Sunroof\", \"AC\"],\n",
        "    \"TypeC\" : [\"Sunroof\", \"Radio\", \"PowerBrakes\"],\n",
        "    \"TypeD\" : [\"Radio\", \"AC\"]\n",
        "}\n",
        "\n",
        "def car_type_constraint(*car_vars):\n",
        "    nr_typeA = len(list(filter(lambda x: x == \"TypeA\", car_vars)))\n",
        "    nr_typeB = len(list(filter(lambda x: x == \"TypeB\", car_vars)))\n",
        "    nr_typeC = len(list(filter(lambda x: x == \"TypeC\", car_vars)))\n",
        "    nr_typeD = len(list(filter(lambda x: x == \"TypeD\", car_vars)))\n",
        "    \n",
        "    return nr_typeA == Nr_A and nr_typeB == Nr_B and nr_typeC == Nr_C and nr_typeD == Nr_D \n",
        "\n",
        "def sunroof_workarea_constraint(*car_vars):\n",
        "    NR_MAX = 3\n",
        "    ct = 0\n",
        "    for v in car_vars:\n",
        "        if \"Sunroof\" in CarSetup[v]:\n",
        "            ct += 1\n",
        "    \n",
        "    return ct <= NR_MAX\n",
        "\n",
        "def radio_workarea_constraint(*car_vars):\n",
        "    NR_MAX = 2\n",
        "    ct = 0\n",
        "    for v in car_vars:\n",
        "        if \"Radio\" in CarSetup[v]:\n",
        "            ct += 1\n",
        "    \n",
        "    return ct <= NR_MAX\n",
        "\n",
        "ConstraintsCar = []\n",
        "ConstraintsCar.append(([v for v in VarsCar], car_type_constraint))\n",
        "\n",
        "for i in range(Nr_total - 4):\n",
        "    ConstraintsCar.append((VarsCar[i:(i+5)], sunroof_workarea_constraint))\n",
        "\n",
        "for i in range(Nr_total - 2):\n",
        "    ConstraintsCar.append((VarsCar[i:(i+3)], radio_workarea_constraint))\n",
        "    \n",
        "CarProblem = {\"Vars\": VarsCar, \"Domains\": DomainsCar, \"Constraints\": ConstraintsCar}"
      ],
      "execution_count": 5,
      "outputs": []
    },
    {
      "cell_type": "code",
      "metadata": {
        "colab": {
          "base_uri": "https://localhost:8080/"
        },
        "id": "Xy5D2pFOtj-p",
        "outputId": "b54e0d90-652d-45fe-d261-e4ecadcb15bd"
      },
      "source": [
        "def get_constraints(var, constraints):\n",
        "    return [constr for constr in constraints if var in constr[0]]\n",
        "\n",
        "get_constraints(\"France\", ConstraintsC) # => [(['France', 'Germany'], ...), (['France', 'Belgium'], ...), (['France', 'Loux'], ...)]"
      ],
      "execution_count": 6,
      "outputs": [
        {
          "output_type": "execute_result",
          "data": {
            "text/plain": [
              "[(['France', 'Germany'], <function __main__.<lambda>>),\n",
              " (['France', 'Belgium'], <function __main__.<lambda>>),\n",
              " (['France', 'Loux'], <function __main__.<lambda>>)]"
            ]
          },
          "metadata": {},
          "execution_count": 6
        }
      ]
    },
    {
      "cell_type": "code",
      "metadata": {
        "id": "9FOJOgQOtoxB",
        "colab": {
          "base_uri": "https://localhost:8080/"
        },
        "outputId": "9fe320c9-92c3-4825-ca8b-95d6d5541463"
      },
      "source": [
        "def fixed_constraints(solution, constraints):\n",
        "    return [constrs for constrs in constraints if all(constr in solution.keys() for constr in constrs[0])]\n",
        "\n",
        "print(fixed_constraints({\"France\": \"blue\", \"Belgium\": \"green\"}, ConstraintsC)) # => [(['France', 'Belgium'], ...)]\n",
        "print(fixed_constraints({\"A\": \"1\", \"C\": \"2\"}, ConstraintsA)) # => [(['A', 'C'], ...), (['C'], ...), (['A'], ...)]"
      ],
      "execution_count": 7,
      "outputs": [
        {
          "output_type": "stream",
          "name": "stdout",
          "text": [
            "[(['France', 'Belgium'], <function <lambda> at 0x7f748e7f8680>)]\n",
            "[(['A', 'C'], <function <listcomp>.<lambda> at 0x7f748e84d5f0>), (['C'], <function <lambda> at 0x7f748e84da70>), (['A'], <function <lambda> at 0x7f748e84df80>)]\n"
          ]
        }
      ]
    },
    {
      "cell_type": "code",
      "metadata": {
        "id": "E-qCca0dtrTh",
        "colab": {
          "base_uri": "https://localhost:8080/"
        },
        "outputId": "fc734adc-162d-4b10-b49b-eacc731e055d"
      },
      "source": [
        "def check_constraint(solution, constraint):\n",
        "    return constraint[1](*[solution[var] for var in constraint[0]])\n",
        "\n",
        "print(check_constraint({\"France\": \"blue\", \"Belgium\": \"green\"}, ConstraintsC[1])) # => True\n",
        "print(check_constraint({\"France\": \"blue\", \"Belgium\": \"blue\"}, ConstraintsC[1])) # => False\n",
        "print(check_constraint({\"C\": 10, \"A\": 10}, ConstraintsA[-2])) # => True\n",
        "print(check_constraint({\"C\": 10, \"A\": 3}, ConstraintsA[-2])) # => False"
      ],
      "execution_count": 8,
      "outputs": [
        {
          "output_type": "stream",
          "name": "stdout",
          "text": [
            "True\n",
            "False\n",
            "True\n",
            "False\n"
          ]
        }
      ]
    },
    {
      "cell_type": "code",
      "metadata": {
        "colab": {
          "base_uri": "https://localhost:8080/"
        },
        "id": "TGxsy3F6GsO8",
        "outputId": "c9bbc84c-43c3-4bcc-e127-015c3ec9e073"
      },
      "source": [
        "def PCSP(vars, domains, constraints, acceptable_cost, solution, cost):\n",
        "    global best_solution\n",
        "    global best_cost\n",
        "\n",
        "    if not vars:\n",
        "        # Dacă nu mai sunt variabile, am ajuns la o soluție mai bună\n",
        "        print(f\"New best: {cost} - {solution}\")\n",
        "\n",
        "        # Salvați soluția nou-descoperită\n",
        "        best_cost = cost\n",
        "        best_solution = solution\n",
        "\n",
        "        # Dacă este suficient de bună, funcția întoarce True\n",
        "        return cost <= acceptable_cost\n",
        "\n",
        "    elif not domains[vars[0]]:\n",
        "        # Dacă nu mai sunt valori în domeniu, am terminat căutarea\n",
        "        return False\n",
        "    elif cost >= best_cost:\n",
        "        # Dacă am ajuns deja la un cost identic cu cel al celei mai bune soluții, nu mergem mai departe\n",
        "        return False\n",
        "    else:\n",
        "        # Luăm prima variabilă și prima valoare din domeniu\n",
        "        var = vars[0]\n",
        "        val = domains[var].pop(0)\n",
        "\n",
        "        # Construim noua soluție\n",
        "        new_solution = {var: val}\n",
        "        new_solution.update(solution)\n",
        "\n",
        "        # Obținem lista constrângerilor ce pot fi evaluate acum\n",
        "        new_constraints = fixed_constraints(new_solution, get_constraints(var, constraints))\n",
        "        # Calculăm costul noii soluții parțiale (fiecare constrângere încălcată = 1)\n",
        "        new_cost = cost + len(list(filter(lambda constr: not check_constraint(new_solution, constr), new_constraints)))\n",
        "\n",
        "        # Verificăm dacă noul cost este mai mic decât cel mai bun cost\n",
        "        if new_cost < best_cost:\n",
        "            # Dacă noul cost este mai mic decât cel mai bun cunoscut, rezolvăm pentru restul variabilelor\n",
        "            # Dacă apelul recursiv întoarce True, a fost găsită o soluție suficient de bună, deci întoarcem True\n",
        "            new_domains = deepcopy(domains)\n",
        "            new_domains.pop(var)\n",
        "\n",
        "            if PCSP(vars[1:], new_domains, constraints, acceptable_cost, new_solution, new_cost):\n",
        "                return True\n",
        "\n",
        "        # Verificăm pentru restul valorilor\n",
        "        return PCSP(vars, domains, constraints, acceptable_cost, solution, cost)\n",
        "\n",
        "# Un wrapper care să instanțieze variabilele globale\n",
        "def run_pcsp(problem, acceptable_cost):\n",
        "    global best_solution\n",
        "    global best_cost\n",
        "\n",
        "    [vars, domains, constraints] = [problem[e] for e in [\"Vars\", \"Domains\", \"Constraints\"]]\n",
        "\n",
        "    best_solution = {}\n",
        "    best_cost = len(constraints)\n",
        "\n",
        "    if PCSP(vars, deepcopy(domains), constraints, acceptable_cost, {}, 0):\n",
        "        print(f\"Best found: {best_cost} - {best_solution}\")\n",
        "    else:\n",
        "        print(f\"Acceptable solution not found; Best found: {best_cost} - {best_solution}\")\n",
        "\n",
        "# Rulăm măgăria\n",
        "run_pcsp(MathProblem, 1)\n",
        "run_pcsp(ColoringProblem, 1)\n",
        "run_pcsp(CarProblem, 1)"
      ],
      "execution_count": 9,
      "outputs": [
        {
          "output_type": "stream",
          "name": "stdout",
          "text": [
            "New best: 14 - {'E': 0, 'D': 0, 'C': 0, 'B': 0, 'A': 0}\n",
            "New best: 10 - {'E': 1, 'D': 0, 'C': 0, 'B': 0, 'A': 0}\n",
            "New best: 8 - {'E': 1, 'D': 1, 'C': 0, 'B': 0, 'A': 0}\n",
            "New best: 7 - {'E': 2, 'D': 1, 'C': 0, 'B': 0, 'A': 0}\n",
            "New best: 6 - {'E': 1, 'D': 6, 'C': 0, 'B': 0, 'A': 0}\n",
            "New best: 5 - {'E': 3, 'D': 2, 'C': 1, 'B': 0, 'A': 0}\n",
            "New best: 4 - {'E': 2, 'D': 6, 'C': 1, 'B': 0, 'A': 0}\n",
            "New best: 3 - {'E': 3, 'D': 5, 'C': 2, 'B': 1, 'A': 0}\n",
            "New best: 2 - {'E': 9, 'D': 7, 'C': 4, 'B': 8, 'A': 2}\n",
            "New best: 1 - {'E': 1, 'D': 2, 'C': 0, 'B': 4, 'A': 6}\n",
            "Best found: 1 - {'E': 1, 'D': 2, 'C': 0, 'B': 4, 'A': 6}\n",
            "New best: 6 - {'Netherlands': 'red', 'Belgium': 'blue', 'Loux': 'blue', 'Germany': 'blue', 'France': 'blue'}\n",
            "New best: 4 - {'Netherlands': 'blue', 'Belgium': 'red', 'Loux': 'blue', 'Germany': 'blue', 'France': 'blue'}\n",
            "New best: 3 - {'Netherlands': 'yellow', 'Belgium': 'red', 'Loux': 'blue', 'Germany': 'blue', 'France': 'blue'}\n",
            "New best: 2 - {'Netherlands': 'yellow', 'Belgium': 'red', 'Loux': 'red', 'Germany': 'blue', 'France': 'blue'}\n",
            "New best: 1 - {'Netherlands': 'red', 'Belgium': 'yellow', 'Loux': 'red', 'Germany': 'blue', 'France': 'blue'}\n",
            "Best found: 1 - {'Netherlands': 'red', 'Belgium': 'yellow', 'Loux': 'red', 'Germany': 'blue', 'France': 'blue'}\n",
            "New best: 6 - {'Car_7': 'TypeA', 'Car_6': 'TypeA', 'Car_5': 'TypeA', 'Car_4': 'TypeA', 'Car_3': 'TypeA', 'Car_2': 'TypeA', 'Car_1': 'TypeA'}\n",
            "New best: 5 - {'Car_7': 'TypeB', 'Car_6': 'TypeA', 'Car_5': 'TypeA', 'Car_4': 'TypeA', 'Car_3': 'TypeA', 'Car_2': 'TypeA', 'Car_1': 'TypeA'}\n",
            "New best: 4 - {'Car_7': 'TypeA', 'Car_6': 'TypeB', 'Car_5': 'TypeA', 'Car_4': 'TypeA', 'Car_3': 'TypeA', 'Car_2': 'TypeA', 'Car_1': 'TypeA'}\n",
            "New best: 3 - {'Car_7': 'TypeA', 'Car_6': 'TypeA', 'Car_5': 'TypeB', 'Car_4': 'TypeA', 'Car_3': 'TypeA', 'Car_2': 'TypeA', 'Car_1': 'TypeA'}\n",
            "New best: 2 - {'Car_7': 'TypeB', 'Car_6': 'TypeA', 'Car_5': 'TypeA', 'Car_4': 'TypeB', 'Car_3': 'TypeA', 'Car_2': 'TypeA', 'Car_1': 'TypeA'}\n",
            "New best: 1 - {'Car_7': 'TypeA', 'Car_6': 'TypeB', 'Car_5': 'TypeA', 'Car_4': 'TypeA', 'Car_3': 'TypeB', 'Car_2': 'TypeA', 'Car_1': 'TypeA'}\n",
            "Best found: 1 - {'Car_7': 'TypeA', 'Car_6': 'TypeB', 'Car_5': 'TypeA', 'Car_4': 'TypeA', 'Car_3': 'TypeB', 'Car_2': 'TypeA', 'Car_1': 'TypeA'}\n"
          ]
        }
      ]
    }
  ]
}