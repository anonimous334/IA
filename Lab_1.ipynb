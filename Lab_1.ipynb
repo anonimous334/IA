{
  "nbformat": 4,
  "nbformat_minor": 0,
  "metadata": {
    "colab": {
      "name": "Copie a blocnotesului Welcome To Colaboratory",
      "provenance": [],
      "collapsed_sections": [],
      "toc_visible": true
    },
    "kernelspec": {
      "display_name": "Python 3",
      "name": "python3"
    }
  },
  "cells": [
    {
      "cell_type": "code",
      "metadata": {
        "id": "a8WWwTYwzjpg",
        "colab": {
          "base_uri": "https://localhost:8080/",
          "height": 215
        },
        "outputId": "8008a042-b11e-4fc8-f095-9f8a51e53cf2"
      },
      "source": [
        "# Vom reprezenta labirintul printr-un tablou bidimensional (o listă de liste)\n",
        "# celulele libere vor avea valoarea 0, iar pereții valoarea 1\n",
        "\n",
        "height = 10\n",
        "width = 20\n",
        "\n",
        "# Construim labirintul ca o listă de liste\n",
        "labyrinth = [[0 for c in range(width)] for r in range(height)]\n",
        "\n",
        "# Așezăm câteva obstacole pe hartă\n",
        "for r in range(2, 7):\n",
        "    labyrinth[r][6] = 1\n",
        "    labyrinth[6][r] = 1\n",
        "labyrinth[2][7] = 1\n",
        "\n",
        "%matplotlib inline\n",
        "import matplotlib.pyplot as pyplot\n",
        "pyplot.imshow(labyrinth, cmap='Greys', interpolation='nearest');"
      ],
      "execution_count": null,
      "outputs": [
        {
          "output_type": "display_data",
          "data": {
            "image/png": "[encoded data removed]",
            "text/plain": [
              "<Figure size 432x288 with 1 Axes>"
            ]
          },
          "metadata": {
            "needs_background": "light"
          }
        }
      ]
    },
    {
      "cell_type": "code",
      "metadata": {
        "id": "zNh52hadzmaJ",
        "colab": {
          "base_uri": "https://localhost:8080/"
        },
        "outputId": "f73c1554-a82b-45e4-d9d1-1f8f520eb1b0"
      },
      "source": [
        "# Punctul de plecare și punctul destinație vor fi reprezentate prin tupluri\n",
        "start = (5, 5)\n",
        "final = (8, 8)\n",
        "\n",
        "# Funcții lambda, funcționale, lucruri frumoase\n",
        "is_final = lambda position: position == final\n",
        "\n",
        "# Map\n",
        "list(map(is_final, [(1,1), (3, 6), (8, 8)]))"
      ],
      "execution_count": null,
      "outputs": [
        {
          "output_type": "execute_result",
          "data": {
            "text/plain": [
              "[False, False, True]"
            ]
          },
          "metadata": {},
          "execution_count": 19
        }
      ]
    },
    {
      "cell_type": "code",
      "metadata": {
        "id": "qafs_Yi9zpN6",
        "colab": {
          "base_uri": "https://localhost:8080/"
        },
        "outputId": "6362fbde-fe65-4c5d-8f98-aaabea7a98d5"
      },
      "source": [
        "# Filter\n",
        "list(filter(lambda x: x % 3 == 2, range(20)))  # ==> [2, 5, 8, 11, 14, 17]\n"
      ],
      "execution_count": null,
      "outputs": [
        {
          "output_type": "execute_result",
          "data": {
            "text/plain": [
              "[2, 5, 8, 11, 14, 17]"
            ]
          },
          "metadata": {},
          "execution_count": 20
        }
      ]
    },
    {
      "cell_type": "code",
      "metadata": {
        "id": "nVMlPdRhzr7a",
        "colab": {
          "base_uri": "https://localhost:8080/"
        },
        "outputId": "cdca88e4-7ef7-471e-eb4b-d66daa75cea4"
      },
      "source": [
        "from functools import reduce\n",
        "\n",
        "# Reduce\n",
        "reduce(lambda x, y: [y] + x, [], [1,2,3])  # ==> [1, 2, 3]"
      ],
      "execution_count": null,
      "outputs": [
        {
          "output_type": "execute_result",
          "data": {
            "text/plain": [
              "[1, 2, 3]"
            ]
          },
          "metadata": {},
          "execution_count": 21
        }
      ]
    },
    {
      "cell_type": "code",
      "metadata": {
        "id": "an3HoHyzzwA_",
        "colab": {
          "base_uri": "https://localhost:8080/"
        },
        "outputId": "b285c680-2784-4c7d-e35e-397bf0a6242f"
      },
      "source": [
        "# Scrieți o funcție care verifică dacă un tuplu dat reprezintă\n",
        "# coordonatele unei poziții libere de pe hartă (coordonatele nu depășesc limitele hărții\n",
        "# și acolo nu se găsește un obstacol)\n",
        "\n",
        "def is_good(pos):\n",
        "    r, c = pos\n",
        "    \n",
        "    if r < 0 or r >= height or c < 0 or c >= width:\n",
        "        return False\n",
        "\n",
        "    return not labyrinth[r][c]\n",
        "\n",
        "\n",
        "list(map(is_good, [(-1,2), (height,3), (width,4), (5,5), (6,6)])) # False, False, False, True, False"
      ],
      "execution_count": null,
      "outputs": [
        {
          "output_type": "execute_result",
          "data": {
            "text/plain": [
              "[False, False, False, True, False]"
            ]
          },
          "metadata": {},
          "execution_count": 22
        }
      ]
    },
    {
      "cell_type": "code",
      "metadata": {
        "id": "7KkDIhYuzxsd",
        "colab": {
          "base_uri": "https://localhost:8080/"
        },
        "outputId": "79116e08-2ead-4c83-bbdb-aa287f0d1562"
      },
      "source": [
        "# Scrieți o funcție care întoarce celulele vecine poziției date (doar cele libere)\n",
        "# Folosiți funcționala filter și funcția is_good scrisă anterior\n",
        "\n",
        "deltas = [(0, 1), (-1, 0), (0, -1), (1, 0)]\n",
        "\n",
        "def get_neighbours(pos):\n",
        "    r, c = pos\n",
        "    return list(filter(is_good, [(r + delta[0], c + delta[1]) for delta in deltas]))\n",
        "\n",
        "\n",
        "[get_neighbours(p) for p in [(0,9), (5,5)]] # ==> [[(1,9), (0,8), (0, 10)], [(4,5), (5,4)]] - nu neaparat în ordinea asta"
      ],
      "execution_count": null,
      "outputs": [
        {
          "output_type": "execute_result",
          "data": {
            "text/plain": [
              "[[(0, 10), (0, 8), (1, 9)], [(4, 5), (5, 4)]]"
            ]
          },
          "metadata": {},
          "execution_count": 23
        }
      ]
    },
    {
      "cell_type": "code",
      "metadata": {
        "id": "YvqrkVDtzze7",
        "colab": {
          "base_uri": "https://localhost:8080/"
        },
        "outputId": "70b8d1cf-28fc-4a7b-f0b9-5f2e47e4402e"
      },
      "source": [
        "from math import sqrt\n",
        "\n",
        "\n",
        "def euclidean_distance(a, b):\n",
        "    return sqrt((a[0] - b[0])**2 + (a[1] - b[1])**2)\n",
        "\n",
        "\n",
        "euclidean_distance((2,3), (4, 7))   # ==> 4.4721359"
      ],
      "execution_count": null,
      "outputs": [
        {
          "output_type": "execute_result",
          "data": {
            "text/plain": [
              "4.47213595499958"
            ]
          },
          "metadata": {},
          "execution_count": 24
        }
      ]
    },
    {
      "cell_type": "code",
      "metadata": {
        "id": "yAQb_lfgz18C",
        "colab": {
          "base_uri": "https://localhost:8080/"
        },
        "outputId": "c84e442e-398c-422e-d191-262268f8992f"
      },
      "source": [
        "def manhattan_distance(a, b):\n",
        "    return abs(a[0] - b[0]) + abs(a[1] - b[1])\n",
        "\n",
        "\n",
        "manhattan_distance((2,3), (4,0))  # ==> 5"
      ],
      "execution_count": null,
      "outputs": [
        {
          "output_type": "execute_result",
          "data": {
            "text/plain": [
              "5"
            ]
          },
          "metadata": {},
          "execution_count": 25
        }
      ]
    },
    {
      "cell_type": "code",
      "metadata": {
        "id": "Xv5ZY6M5z4ap",
        "colab": {
          "base_uri": "https://localhost:8080/"
        },
        "outputId": "c4ae617d-59d8-4ea2-d7ba-329308138a87"
      },
      "source": [
        "from heapq import heappop, heappush\n",
        "\n",
        "priority_queue = []\n",
        "heappush(priority_queue, (2, 'A'))\n",
        "heappush(priority_queue, (1, 'B'))\n",
        "heappush(priority_queue, (1.5, 'C'))\n",
        "\n",
        "print(heappop(priority_queue))  # ==> (1, 'B')\n",
        "print(heappop(priority_queue))  # ==> (1.5, 'C')\n",
        "print(heappop(priority_queue))  # ==> (2, 'A')"
      ],
      "execution_count": null,
      "outputs": [
        {
          "output_type": "stream",
          "name": "stdout",
          "text": [
            "(1, 'B')\n",
            "(1.5, 'C')\n",
            "(2, 'A')\n"
          ]
        }
      ]
    },
    {
      "cell_type": "code",
      "metadata": {
        "id": "TjSWK9DCz6Pm",
        "colab": {
          "base_uri": "https://localhost:8080/"
        },
        "outputId": "a1af7459-08fc-4f83-d5d6-8088a4f37189"
      },
      "source": [
        "# Dicționare\n",
        "d = {}\n",
        "d['doi'] = 2\n",
        "d['trei'] = 3\n",
        "\n",
        "print(d['doi']) # ==> 2\n",
        "\n",
        "# Funcția get\n",
        "print(d.get('trei'))  # ==> 3\n",
        "print(d.get('patru', 'Nu am găsit!'))  # ==> Nu am găsit!\n",
        "\n",
        "for (key, value) in d.items():\n",
        "    print(key, \" -> \", value)"
      ],
      "execution_count": null,
      "outputs": [
        {
          "output_type": "stream",
          "name": "stdout",
          "text": [
            "2\n",
            "3\n",
            "Nu am găsit!\n",
            "doi  ->  2\n",
            "trei  ->  3\n"
          ]
        }
      ]
    },
    {
      "cell_type": "code",
      "metadata": {
        "id": "uvXOxdVvz833"
      },
      "source": [
        "def astar(start, end, h):\n",
        "    # Frontiera, ca listă (heap) de tupluri (cost-total-estimat, nod)\n",
        "    frontier = []\n",
        "    heappush(frontier, (0 + h(start, end), start))\n",
        "    # Nodurile descoperite ca dicționar nod -> (părinte, cost-până-la-nod)\n",
        "    discovered = {start: (None, 0)}\n",
        "    while frontier:\n",
        "        crt_f, crt_node = heappop(frontier)\n",
        "        crt_g = discovered[crt_node][1]\n",
        "\n",
        "        if crt_node == end:\n",
        "            break\n",
        "\n",
        "        for neigh in get_neighbours(crt_node):\n",
        "            neigh_g = crt_g + 1\n",
        "\n",
        "            if neigh not in discovered or neigh_g < discovered[neigh][1]:\n",
        "                discovered[neigh] = (crt_node, neigh_g)\n",
        "                heappush(frontier, (neigh_g + h(neigh, end), neigh))\n",
        "    \n",
        "    cost_map = [[discovered[(r,c)][1] if (r,c) in discovered else 0 for c in range(width)]for r in range(height)]\n",
        "    pyplot.imshow(cost_map , cmap='Greys', interpolation='nearest');\n",
        "    \n",
        "    # Refacem drumul\n",
        "    path = []\n",
        "    crt_node = end\n",
        "    while crt_node:\n",
        "        path.append(crt_node)\n",
        "        crt_node = discovered[crt_node][0]\n",
        "\n",
        "    return path # drumul, ca listă de poziții"
      ],
      "execution_count": null,
      "outputs": []
    },
    {
      "cell_type": "code",
      "metadata": {
        "id": "hFokxQVOz-lt",
        "colab": {
          "base_uri": "https://localhost:8080/",
          "height": 467
        },
        "outputId": "eea42d33-2728-41d6-9c5b-94dd8e838488"
      },
      "source": [
        "astar(start, final, euclidean_distance)"
      ],
      "execution_count": null,
      "outputs": [
        {
          "output_type": "execute_result",
          "data": {
            "text/plain": [
              "[(8, 8),\n",
              " (7, 8),\n",
              " (7, 7),\n",
              " (7, 6),\n",
              " (7, 5),\n",
              " (7, 4),\n",
              " (7, 3),\n",
              " (7, 2),\n",
              " (7, 1),\n",
              " (6, 1),\n",
              " (5, 1),\n",
              " (5, 2),\n",
              " (5, 3),\n",
              " (5, 4),\n",
              " (5, 5)]"
            ]
          },
          "metadata": {},
          "execution_count": 29
        },
        {
          "output_type": "display_data",
          "data": {
            "image/png": "[encoded data removed]",
            "text/plain": [
              "<Figure size 432x288 with 1 Axes>"
            ]
          },
          "metadata": {
            "needs_background": "light"
          }
        }
      ]
    },
    {
      "cell_type": "code",
      "metadata": {
        "id": "PAn_cc820AaA",
        "colab": {
          "base_uri": "https://localhost:8080/",
          "height": 467
        },
        "outputId": "be1bb3b5-031d-40e7-c950-423fa3c2acf5"
      },
      "source": [
        "astar(start, final, manhattan_distance)"
      ],
      "execution_count": null,
      "outputs": [
        {
          "output_type": "execute_result",
          "data": {
            "text/plain": [
              "[(8, 8),\n",
              " (7, 8),\n",
              " (6, 8),\n",
              " (5, 8),\n",
              " (4, 8),\n",
              " (3, 8),\n",
              " (2, 8),\n",
              " (1, 8),\n",
              " (1, 7),\n",
              " (1, 6),\n",
              " (1, 5),\n",
              " (2, 5),\n",
              " (3, 5),\n",
              " (4, 5),\n",
              " (5, 5)]"
            ]
          },
          "metadata": {},
          "execution_count": 30
        },
        {
          "output_type": "display_data",
          "data": {
            "image/png": "[encoded data removed]",
            "text/plain": [
              "<Figure size 432x288 with 1 Axes>"
            ]
          },
          "metadata": {
            "needs_background": "light"
          }
        }
      ]
    },
    {
      "cell_type": "code",
      "metadata": {
        "id": "C91bJNwV0CKh",
        "colab": {
          "base_uri": "https://localhost:8080/",
          "height": 467
        },
        "outputId": "c4a5a456-a181-4aee-83d0-92c227805872"
      },
      "source": [
        "astar(start, final, lambda x, y: 0)  # fara euristica"
      ],
      "execution_count": null,
      "outputs": [
        {
          "output_type": "execute_result",
          "data": {
            "text/plain": [
              "[(8, 8),\n",
              " (7, 8),\n",
              " (6, 8),\n",
              " (5, 8),\n",
              " (4, 8),\n",
              " (3, 8),\n",
              " (2, 8),\n",
              " (1, 8),\n",
              " (1, 7),\n",
              " (1, 6),\n",
              " (1, 5),\n",
              " (2, 5),\n",
              " (3, 5),\n",
              " (4, 5),\n",
              " (5, 5)]"
            ]
          },
          "metadata": {},
          "execution_count": 31
        },
        {
          "output_type": "display_data",
          "data": {
            "image/png": "[encoded data removed]",
            "text/plain": [
              "<Figure size 432x288 with 1 Axes>"
            ]
          },
          "metadata": {
            "needs_background": "light"
          }
        }
      ]
    }
  ]
}