{
  "nbformat": 4,
  "nbformat_minor": 0,
  "metadata": {
    "colab": {
      "name": "Lab_12_IA_Stanescu_Alexandru_344C3.ipynb",
      "provenance": [],
      "collapsed_sections": []
    },
    "kernelspec": {
      "name": "python3",
      "display_name": "Python 3"
    },
    "language_info": {
      "name": "python"
    }
  },
  "cells": [
    {
      "cell_type": "code",
      "execution_count": 8,
      "metadata": {
        "colab": {
          "base_uri": "https://localhost:8080/",
          "height": 73,
          "resources": {
            "http://localhost:8080/nbextensions/google.colab/files.js": {
              "data": "Ly8gQ29weXJpZ2h0IDIwMTcgR29vZ2xlIExMQwovLwovLyBMaWNlbnNlZCB1bmRlciB0aGUgQXBhY2hlIExpY2Vuc2UsIFZlcnNpb24gMi4wICh0aGUgIkxpY2Vuc2UiKTsKLy8geW91IG1heSBub3QgdXNlIHRoaXMgZmlsZSBleGNlcHQgaW4gY29tcGxpYW5jZSB3aXRoIHRoZSBMaWNlbnNlLgovLyBZb3UgbWF5IG9idGFpbiBhIGNvcHkgb2YgdGhlIExpY2Vuc2UgYXQKLy8KLy8gICAgICBodHRwOi8vd3d3LmFwYWNoZS5vcmcvbGljZW5zZXMvTElDRU5TRS0yLjAKLy8KLy8gVW5sZXNzIHJlcXVpcmVkIGJ5IGFwcGxpY2FibGUgbGF3IG9yIGFncmVlZCB0byBpbiB3cml0aW5nLCBzb2Z0d2FyZQovLyBkaXN0cmlidXRlZCB1bmRlciB0aGUgTGljZW5zZSBpcyBkaXN0cmlidXRlZCBvbiBhbiAiQVMgSVMiIEJBU0lTLAovLyBXSVRIT1VUIFdBUlJBTlRJRVMgT1IgQ09ORElUSU9OUyBPRiBBTlkgS0lORCwgZWl0aGVyIGV4cHJlc3Mgb3IgaW1wbGllZC4KLy8gU2VlIHRoZSBMaWNlbnNlIGZvciB0aGUgc3BlY2lmaWMgbGFuZ3VhZ2UgZ292ZXJuaW5nIHBlcm1pc3Npb25zIGFuZAovLyBsaW1pdGF0aW9ucyB1bmRlciB0aGUgTGljZW5zZS4KCi8qKgogKiBAZmlsZW92ZXJ2aWV3IEhlbHBlcnMgZm9yIGdvb2dsZS5jb2xhYiBQeXRob24gbW9kdWxlLgogKi8KKGZ1bmN0aW9uKHNjb3BlKSB7CmZ1bmN0aW9uIHNwYW4odGV4dCwgc3R5bGVBdHRyaWJ1dGVzID0ge30pIHsKICBjb25zdCBlbGVtZW50ID0gZG9jdW1lbnQuY3JlYXRlRWxlbWVudCgnc3BhbicpOwogIGVsZW1lbnQudGV4dENvbnRlbnQgPSB0ZXh0OwogIGZvciAoY29uc3Qga2V5IG9mIE9iamVjdC5rZXlzKHN0eWxlQXR0cmlidXRlcykpIHsKICAgIGVsZW1lbnQuc3R5bGVba2V5XSA9IHN0eWxlQXR0cmlidXRlc1trZXldOwogIH0KICByZXR1cm4gZWxlbWVudDsKfQoKLy8gTWF4IG51bWJlciBvZiBieXRlcyB3aGljaCB3aWxsIGJlIHVwbG9hZGVkIGF0IGEgdGltZS4KY29uc3QgTUFYX1BBWUxPQURfU0laRSA9IDEwMCAqIDEwMjQ7CgpmdW5jdGlvbiBfdXBsb2FkRmlsZXMoaW5wdXRJZCwgb3V0cHV0SWQpIHsKICBjb25zdCBzdGVwcyA9IHVwbG9hZEZpbGVzU3RlcChpbnB1dElkLCBvdXRwdXRJZCk7CiAgY29uc3Qgb3V0cHV0RWxlbWVudCA9IGRvY3VtZW50LmdldEVsZW1lbnRCeUlkKG91dHB1dElkKTsKICAvLyBDYWNoZSBzdGVwcyBvbiB0aGUgb3V0cHV0RWxlbWVudCB0byBtYWtlIGl0IGF2YWlsYWJsZSBmb3IgdGhlIG5leHQgY2FsbAogIC8vIHRvIHVwbG9hZEZpbGVzQ29udGludWUgZnJvbSBQeXRob24uCiAgb3V0cHV0RWxlbWVudC5zdGVwcyA9IHN0ZXBzOwoKICByZXR1cm4gX3VwbG9hZEZpbGVzQ29udGludWUob3V0cHV0SWQpOwp9CgovLyBUaGlzIGlzIHJvdWdobHkgYW4gYXN5bmMgZ2VuZXJhdG9yIChub3Qgc3VwcG9ydGVkIGluIHRoZSBicm93c2VyIHlldCksCi8vIHdoZXJlIHRoZXJlIGFyZSBtdWx0aXBsZSBhc3luY2hyb25vdXMgc3RlcHMgYW5kIHRoZSBQeXRob24gc2lkZSBpcyBnb2luZwovLyB0byBwb2xsIGZvciBjb21wbGV0aW9uIG9mIGVhY2ggc3RlcC4KLy8gVGhpcyB1c2VzIGEgUHJvbWlzZSB0byBibG9jayB0aGUgcHl0aG9uIHNpZGUgb24gY29tcGxldGlvbiBvZiBlYWNoIHN0ZXAsCi8vIHRoZW4gcGFzc2VzIHRoZSByZXN1bHQgb2YgdGhlIHByZXZpb3VzIHN0ZXAgYXMgdGhlIGlucHV0IHRvIHRoZSBuZXh0IHN0ZXAuCmZ1bmN0aW9uIF91cGxvYWRGaWxlc0NvbnRpbnVlKG91dHB1dElkKSB7CiAgY29uc3Qgb3V0cHV0RWxlbWVudCA9IGRvY3VtZW50LmdldEVsZW1lbnRCeUlkKG91dHB1dElkKTsKICBjb25zdCBzdGVwcyA9IG91dHB1dEVsZW1lbnQuc3RlcHM7CgogIGNvbnN0IG5leHQgPSBzdGVwcy5uZXh0KG91dHB1dEVsZW1lbnQubGFzdFByb21pc2VWYWx1ZSk7CiAgcmV0dXJuIFByb21pc2UucmVzb2x2ZShuZXh0LnZhbHVlLnByb21pc2UpLnRoZW4oKHZhbHVlKSA9PiB7CiAgICAvLyBDYWNoZSB0aGUgbGFzdCBwcm9taXNlIHZhbHVlIHRvIG1ha2UgaXQgYXZhaWxhYmxlIHRvIHRoZSBuZXh0CiAgICAvLyBzdGVwIG9mIHRoZSBnZW5lcmF0b3IuCiAgICBvdXRwdXRFbGVtZW50Lmxhc3RQcm9taXNlVmFsdWUgPSB2YWx1ZTsKICAgIHJldHVybiBuZXh0LnZhbHVlLnJlc3BvbnNlOwogIH0pOwp9CgovKioKICogR2VuZXJhdG9yIGZ1bmN0aW9uIHdoaWNoIGlzIGNhbGxlZCBiZXR3ZWVuIGVhY2ggYXN5bmMgc3RlcCBvZiB0aGUgdXBsb2FkCiAqIHByb2Nlc3MuCiAqIEBwYXJhbSB7c3RyaW5nfSBpbnB1dElkIEVsZW1lbnQgSUQgb2YgdGhlIGlucHV0IGZpbGUgcGlja2VyIGVsZW1lbnQuCiAqIEBwYXJhbSB7c3RyaW5nfSBvdXRwdXRJZCBFbGVtZW50IElEIG9mIHRoZSBvdXRwdXQgZGlzcGxheS4KICogQHJldHVybiB7IUl0ZXJhYmxlPCFPYmplY3Q+fSBJdGVyYWJsZSBvZiBuZXh0IHN0ZXBzLgogKi8KZnVuY3Rpb24qIHVwbG9hZEZpbGVzU3RlcChpbnB1dElkLCBvdXRwdXRJZCkgewogIGNvbnN0IGlucHV0RWxlbWVudCA9IGRvY3VtZW50LmdldEVsZW1lbnRCeUlkKGlucHV0SWQpOwogIGlucHV0RWxlbWVudC5kaXNhYmxlZCA9IGZhbHNlOwoKICBjb25zdCBvdXRwdXRFbGVtZW50ID0gZG9jdW1lbnQuZ2V0RWxlbWVudEJ5SWQob3V0cHV0SWQpOwogIG91dHB1dEVsZW1lbnQuaW5uZXJIVE1MID0gJyc7CgogIGNvbnN0IHBpY2tlZFByb21pc2UgPSBuZXcgUHJvbWlzZSgocmVzb2x2ZSkgPT4gewogICAgaW5wdXRFbGVtZW50LmFkZEV2ZW50TGlzdGVuZXIoJ2NoYW5nZScsIChlKSA9PiB7CiAgICAgIHJlc29sdmUoZS50YXJnZXQuZmlsZXMpOwogICAgfSk7CiAgfSk7CgogIGNvbnN0IGNhbmNlbCA9IGRvY3VtZW50LmNyZWF0ZUVsZW1lbnQoJ2J1dHRvbicpOwogIGlucHV0RWxlbWVudC5wYXJlbnRFbGVtZW50LmFwcGVuZENoaWxkKGNhbmNlbCk7CiAgY2FuY2VsLnRleHRDb250ZW50ID0gJ0NhbmNlbCB1cGxvYWQnOwogIGNvbnN0IGNhbmNlbFByb21pc2UgPSBuZXcgUHJvbWlzZSgocmVzb2x2ZSkgPT4gewogICAgY2FuY2VsLm9uY2xpY2sgPSAoKSA9PiB7CiAgICAgIHJlc29sdmUobnVsbCk7CiAgICB9OwogIH0pOwoKICAvLyBXYWl0IGZvciB0aGUgdXNlciB0byBwaWNrIHRoZSBmaWxlcy4KICBjb25zdCBmaWxlcyA9IHlpZWxkIHsKICAgIHByb21pc2U6IFByb21pc2UucmFjZShbcGlja2VkUHJvbWlzZSwgY2FuY2VsUHJvbWlzZV0pLAogICAgcmVzcG9uc2U6IHsKICAgICAgYWN0aW9uOiAnc3RhcnRpbmcnLAogICAgfQogIH07CgogIGNhbmNlbC5yZW1vdmUoKTsKCiAgLy8gRGlzYWJsZSB0aGUgaW5wdXQgZWxlbWVudCBzaW5jZSBmdXJ0aGVyIHBpY2tzIGFyZSBub3QgYWxsb3dlZC4KICBpbnB1dEVsZW1lbnQuZGlzYWJsZWQgPSB0cnVlOwoKICBpZiAoIWZpbGVzKSB7CiAgICByZXR1cm4gewogICAgICByZXNwb25zZTogewogICAgICAgIGFjdGlvbjogJ2NvbXBsZXRlJywKICAgICAgfQogICAgfTsKICB9CgogIGZvciAoY29uc3QgZmlsZSBvZiBmaWxlcykgewogICAgY29uc3QgbGkgPSBkb2N1bWVudC5jcmVhdGVFbGVtZW50KCdsaScpOwogICAgbGkuYXBwZW5kKHNwYW4oZmlsZS5uYW1lLCB7Zm9udFdlaWdodDogJ2JvbGQnfSkpOwogICAgbGkuYXBwZW5kKHNwYW4oCiAgICAgICAgYCgke2ZpbGUudHlwZSB8fCAnbi9hJ30pIC0gJHtmaWxlLnNpemV9IGJ5dGVzLCBgICsKICAgICAgICBgbGFzdCBtb2RpZmllZDogJHsKICAgICAgICAgICAgZmlsZS5sYXN0TW9kaWZpZWREYXRlID8gZmlsZS5sYXN0TW9kaWZpZWREYXRlLnRvTG9jYWxlRGF0ZVN0cmluZygpIDoKICAgICAgICAgICAgICAgICAgICAgICAgICAgICAgICAgICAgJ24vYSd9IC0gYCkpOwogICAgY29uc3QgcGVyY2VudCA9IHNwYW4oJzAlIGRvbmUnKTsKICAgIGxpLmFwcGVuZENoaWxkKHBlcmNlbnQpOwoKICAgIG91dHB1dEVsZW1lbnQuYXBwZW5kQ2hpbGQobGkpOwoKICAgIGNvbnN0IGZpbGVEYXRhUHJvbWlzZSA9IG5ldyBQcm9taXNlKChyZXNvbHZlKSA9PiB7CiAgICAgIGNvbnN0IHJlYWRlciA9IG5ldyBGaWxlUmVhZGVyKCk7CiAgICAgIHJlYWRlci5vbmxvYWQgPSAoZSkgPT4gewogICAgICAgIHJlc29sdmUoZS50YXJnZXQucmVzdWx0KTsKICAgICAgfTsKICAgICAgcmVhZGVyLnJlYWRBc0FycmF5QnVmZmVyKGZpbGUpOwogICAgfSk7CiAgICAvLyBXYWl0IGZvciB0aGUgZGF0YSB0byBiZSByZWFkeS4KICAgIGxldCBmaWxlRGF0YSA9IHlpZWxkIHsKICAgICAgcHJvbWlzZTogZmlsZURhdGFQcm9taXNlLAogICAgICByZXNwb25zZTogewogICAgICAgIGFjdGlvbjogJ2NvbnRpbnVlJywKICAgICAgfQogICAgfTsKCiAgICAvLyBVc2UgYSBjaHVua2VkIHNlbmRpbmcgdG8gYXZvaWQgbWVzc2FnZSBzaXplIGxpbWl0cy4gU2VlIGIvNjIxMTU2NjAuCiAgICBsZXQgcG9zaXRpb24gPSAwOwogICAgZG8gewogICAgICBjb25zdCBsZW5ndGggPSBNYXRoLm1pbihmaWxlRGF0YS5ieXRlTGVuZ3RoIC0gcG9zaXRpb24sIE1BWF9QQVlMT0FEX1NJWkUpOwogICAgICBjb25zdCBjaHVuayA9IG5ldyBVaW50OEFycmF5KGZpbGVEYXRhLCBwb3NpdGlvbiwgbGVuZ3RoKTsKICAgICAgcG9zaXRpb24gKz0gbGVuZ3RoOwoKICAgICAgY29uc3QgYmFzZTY0ID0gYnRvYShTdHJpbmcuZnJvbUNoYXJDb2RlLmFwcGx5KG51bGwsIGNodW5rKSk7CiAgICAgIHlpZWxkIHsKICAgICAgICByZXNwb25zZTogewogICAgICAgICAgYWN0aW9uOiAnYXBwZW5kJywKICAgICAgICAgIGZpbGU6IGZpbGUubmFtZSwKICAgICAgICAgIGRhdGE6IGJhc2U2NCwKICAgICAgICB9LAogICAgICB9OwoKICAgICAgbGV0IHBlcmNlbnREb25lID0gZmlsZURhdGEuYnl0ZUxlbmd0aCA9PT0gMCA/CiAgICAgICAgICAxMDAgOgogICAgICAgICAgTWF0aC5yb3VuZCgocG9zaXRpb24gLyBmaWxlRGF0YS5ieXRlTGVuZ3RoKSAqIDEwMCk7CiAgICAgIHBlcmNlbnQudGV4dENvbnRlbnQgPSBgJHtwZXJjZW50RG9uZX0lIGRvbmVgOwoKICAgIH0gd2hpbGUgKHBvc2l0aW9uIDwgZmlsZURhdGEuYnl0ZUxlbmd0aCk7CiAgfQoKICAvLyBBbGwgZG9uZS4KICB5aWVsZCB7CiAgICByZXNwb25zZTogewogICAgICBhY3Rpb246ICdjb21wbGV0ZScsCiAgICB9CiAgfTsKfQoKc2NvcGUuZ29vZ2xlID0gc2NvcGUuZ29vZ2xlIHx8IHt9OwpzY29wZS5nb29nbGUuY29sYWIgPSBzY29wZS5nb29nbGUuY29sYWIgfHwge307CnNjb3BlLmdvb2dsZS5jb2xhYi5fZmlsZXMgPSB7CiAgX3VwbG9hZEZpbGVzLAogIF91cGxvYWRGaWxlc0NvbnRpbnVlLAp9Owp9KShzZWxmKTsK",
              "ok": true,
              "headers": [
                [
                  "content-type",
                  "application/javascript"
                ]
              ],
              "status": 200,
              "status_text": ""
            }
          }
        },
        "id": "S4oSQzcdmJt3",
        "outputId": "cf3eae25-e855-4012-8d44-19e49dbed849"
      },
      "outputs": [
        {
          "output_type": "display_data",
          "data": {
            "text/html": [
              "\n",
              "     <input type=\"file\" id=\"files-2f8d1835-9ec5-44ea-a274-b5ce17f9bed0\" name=\"files[]\" multiple disabled\n",
              "        style=\"border:none\" />\n",
              "     <output id=\"result-2f8d1835-9ec5-44ea-a274-b5ce17f9bed0\">\n",
              "      Upload widget is only available when the cell has been executed in the\n",
              "      current browser session. Please rerun this cell to enable.\n",
              "      </output>\n",
              "      <script src=\"/nbextensions/google.colab/files.js\"></script> "
            ],
            "text/plain": [
              "<IPython.core.display.HTML object>"
            ]
          },
          "metadata": {}
        },
        {
          "output_type": "stream",
          "name": "stdout",
          "text": [
            "Saving LPTester.py to LPTester.py\n"
          ]
        }
      ],
      "source": [
        "#Pentru a putea incarca fisiere in colab. Voi alege mai jos LPTester.py.\n",
        "from google.colab import files\n",
        "uploaded = files.upload()\n",
        "\n",
        "from operator import add\n",
        "from LPTester import test_batch"
      ]
    },
    {
      "cell_type": "code",
      "source": [
        "### Reprezentare - construcție\n",
        "CONST = \"const\"\n",
        "ATOM = \"atom\"\n",
        "VAR = \"var\"\n",
        "CALL = \"call\"\n",
        "AND = \"&\"\n",
        "OR = \"|\"\n",
        "NEG = \"~\"\n",
        "OPS = [AND, OR, NEG]\n",
        "\n",
        "TYPE = FUNC = 0\n",
        "ARGS = 1\n",
        "\n",
        "# întoarce un termen constant, cu valoarea specificată.\n",
        "def make_const(value):\n",
        "    return (CONST, value)\n",
        "\n",
        "# întoarce un termen care este o variabilă, cu numele specificat.\n",
        "def make_var(name):\n",
        "    return (VAR, name)\n",
        "\n",
        "# întoarce un termen care este un apel al funcției specificate, pe restul argumentelor date.\n",
        "# E.g. pentru a construi termenul add[1, 2, 3] vom apela\n",
        "#  make_function_call(add, make_const(1), make_const(2), make_const(3))\n",
        "# !! ATENȚIE: python dă args ca tuplu cu restul argumentelor, nu ca listă. Se poate converti la listă cu list(args)\n",
        "def make_function_call(function, *args):\n",
        "    return (CALL, (function, list(args)))\n",
        "\n",
        "# întoarce o formulă formată dintr-un atom care este aplicarea predicatului dat pe restul argumentelor date.\n",
        "# !! ATENȚIE: python dă args ca tuplu cu restul argumentelor, nu ca listă. Se poate converti la listă cu list(args)\n",
        "def make_atom(predicate, *args):\n",
        "    return (ATOM, (predicate, list(args)))\n",
        "\n",
        "# întoarce o formulă care este negarea propoziției date.\n",
        "# get_args(make_neg(s1)) va întoarce [s1]\n",
        "def make_neg(sentence):\n",
        "    return (NEG, [sentence])\n",
        "\n",
        "# întoarce o formulă care este conjuncția propozițiilor date (2 sau mai multe).\n",
        "# e.g. apelul make_and(s1, s2, s3, s4) va întoarce o structură care este conjuncția s1 ^ s2 ^ s3 ^ s4\n",
        "#  și get_args pe această structură va întoarce [s1, s2, s3, s4]\n",
        "def make_and(sentence1, sentence2, *others):\n",
        "    return (AND, [sentence1, sentence2] + list(others))\n",
        "\n",
        "# întoarce o formulă care este disjuncția propozițiilor date.\n",
        "# e.g. apelul make_or(s1, s2, s3, s4) va întoarce o structură care este disjuncția s1 V s2 V s3 V s4\n",
        "#  și get_args pe această structură va întoarce [s1, s2, s3, s4]\n",
        "def make_or(sentence1, sentence2, *others):\n",
        "    return (OR, [sentence1, sentence2] + list(others))\n",
        "\n",
        "# întoarce o copie a formulei sau apelul de funcție date, în care argumentele au fost înlocuite\n",
        "#  cu cele din lista new_args.\n",
        "# e.g. pentru formula p(x, y), înlocuirea argumentelor cu lista [1, 2] va rezulta în formula p(1, 2).\n",
        "# Noua listă de argumente trebuie să aibă aceeași lungime cu numărul de argumente inițial din formulă.\n",
        "def replace_args(formula, new_args):\n",
        "    if is_atom(formula) or is_function_call(formula):\n",
        "        return (formula[TYPE], (formula[ARGS][TYPE], new_args))\n",
        "    return (formula[TYPE], new_args)\n",
        "    \n",
        "    \n",
        "### Reprezentare - verificare\n",
        "\n",
        "# întoarce adevărat dacă f este un termen.\n",
        "def is_term(f):\n",
        "    return is_constant(f) or is_variable(f) or is_function_call(f)\n",
        "\n",
        "# întoarce adevărat dacă f este un termen constant.\n",
        "def is_constant(f):\n",
        "    return f[TYPE] == CONST\n",
        "\n",
        "# întoarce adevărat dacă f este un termen ce este o variabilă.\n",
        "def is_variable(f):\n",
        "    return f[TYPE] == VAR\n",
        "\n",
        "# întoarce adevărat dacă f este un apel de funcție.\n",
        "def is_function_call(f):\n",
        "    return f[TYPE] == CALL\n",
        "\n",
        "# întoarce adevărat dacă f este un atom (aplicare a unui predicat).\n",
        "def is_atom(f):\n",
        "    return f[TYPE] == ATOM\n",
        "\n",
        "# întoarce adevărat dacă f este o propoziție validă.\n",
        "def is_sentence(f):\n",
        "    return is_atom(f) or f[TYPE] in OPS\n",
        "\n",
        "# întoarce adevărat dacă formula f este ceva ce are argumente.\n",
        "def has_args(f):\n",
        "    return is_function_call(f) or is_sentence(f)\n",
        "\n",
        "\n",
        "### Reprezentare - verificare\n",
        "\n",
        "# pentru constante (de verificat), se întoarce valoarea constantei; altfel, None.\n",
        "def get_value(f):\n",
        "    return f[ARGS] if is_constant(f) else None\n",
        "\n",
        "# pentru variabile (de verificat), se întoarce numele variabilei; altfel, None.\n",
        "def get_name(f):\n",
        "    return f[ARGS] if is_variable(f) else None\n",
        "\n",
        "# pentru apeluri de funcții, se întoarce funcția;\n",
        "# pentru atomi, se întoarce numele predicatului; \n",
        "# pentru propoziții compuse, se întoarce un șir de caractere care reprezintă conectorul logic (e.g. ~, A sau V);\n",
        "# altfel, None\n",
        "def get_head(f):\n",
        "    if is_atom(f) or is_function_call(f):\n",
        "        return f[ARGS][FUNC]\n",
        "    if is_sentence(f):\n",
        "        return f[TYPE]\n",
        "\n",
        "# pentru propoziții sau apeluri de funcții, se întoarce lista de argumente; altfel, None.\n",
        "# Vezi și \"Important:\", mai sus.\n",
        "def get_args(f):\n",
        "    if is_atom(f) or is_function_call(f):\n",
        "        return f[ARGS][ARGS]\n",
        "    if is_sentence(f):\n",
        "        return f[ARGS]\n",
        "\n",
        "\n",
        "test_batch(0, globals())"
      ],
      "metadata": {
        "colab": {
          "base_uri": "https://localhost:8080/"
        },
        "id": "BhCVQOzBnq0b",
        "outputId": "973c995a-0c6b-4dfe-8eed-9dfbf29329a2"
      },
      "execution_count": 9,
      "outputs": [
        {
          "output_type": "stream",
          "name": "stdout",
          "text": [
            ">>> Test batch [0]\n",
            "Test 0: OK\n",
            "Test 1: OK\n",
            "Test 2: OK\n",
            "Test 3: OK\n",
            "Test 4: OK\n",
            "Test 5: OK\n",
            "Test 6: OK\n",
            "Test 7: OK\n",
            "Test 8: OK\n",
            "Test 9: OK\n",
            "Test 10: OK\n",
            "Test 11: OK\n",
            "Test 12: OK\n",
            "Test 13: OK\n",
            "Test 14: OK\n",
            "Test 15: OK\n",
            "Test 16: OK\n",
            "Test 17: OK\n",
            "Test 18: OK\n",
            "Test 19: OK\n",
            "Test 20: OK\n",
            "Test 21: OK\n",
            "Test 22: OK\n",
            "Test 23: OK\n",
            "Test 24: OK\n",
            "Test 25: OK\n",
            "Test 26: OK\n",
            "Test 27: OK\n",
            "Test 28: OK\n",
            "Test 29: OK\n",
            "Test 30: OK\n",
            "Test 31: OK\n",
            "Test 32: OK\n",
            ">>>  33 / 33 tests successful.\n"
          ]
        }
      ]
    },
    {
      "cell_type": "code",
      "source": [
        "# Afișează formula f. Dacă argumentul return_result este True, rezultatul nu este afișat la consolă, ci întors.\n",
        "def print_formula(f, return_result = False):\n",
        "    ret = \"\"\n",
        "    if is_term(f):\n",
        "        if is_constant(f):\n",
        "            ret += str(get_value(f))\n",
        "        elif is_variable(f):\n",
        "            ret += \"?\" + get_name(f)\n",
        "        elif is_function_call(f):\n",
        "            ret += str(get_head(f)) + \"[\" + \"\".join([print_formula(arg, True) + \",\" for arg in get_args(f)])[:-1] + \"]\"\n",
        "        else:\n",
        "            ret += \"???\"\n",
        "    elif is_atom(f):\n",
        "        ret += str(get_head(f)) + \"(\" + \"\".join([print_formula(arg, True) + \", \" for arg in get_args(f)])[:-2] + \")\"\n",
        "    elif is_sentence(f):\n",
        "        # negation, conjunction or disjunction\n",
        "        args = get_args(f)\n",
        "        if len(args) == 1:\n",
        "            ret += str(get_head(f)) + print_formula(args[0], True)\n",
        "        else:\n",
        "            ret += \"(\" + str(get_head(f)) + \"\".join([\" \" + print_formula(arg, True) for arg in get_args(f)]) + \")\"\n",
        "    else:\n",
        "        ret += \"???\"\n",
        "    if return_result:\n",
        "        return ret\n",
        "    print(ret)\n",
        "    return\n",
        "    \n",
        "# Verificare construcție și afișare\n",
        "# Ar trebui ca ieșirea să fie similară cu: (A (V ~P(?x) Q(?x)) T(?y, <built-in function add>[1,2]))\n",
        "formula1 = make_and(\n",
        "    make_or(make_neg(make_atom(\"P\", make_var(\"x\"))), make_atom(\"Q\", make_var(\"x\"))),\n",
        "    make_atom(\"T\", make_var(\"y\"), make_function_call(add, make_const(1), make_const(2))))\n",
        "print_formula(formula1)"
      ],
      "metadata": {
        "colab": {
          "base_uri": "https://localhost:8080/"
        },
        "id": "cmV6M8Yinv1-",
        "outputId": "c2fe5ab3-8ea0-4f44-a3ab-b738bd18a353"
      },
      "execution_count": 10,
      "outputs": [
        {
          "output_type": "stream",
          "name": "stdout",
          "text": [
            "(& (| ~P(?x) Q(?x)) T(?y, <built-in function add>[1,2]))\n"
          ]
        }
      ]
    },
    {
      "cell_type": "code",
      "source": [
        "# Aplică în formula f toate elementele din substituția dată și întoarce formula rezultată\n",
        "def substitute(f, substitution):\n",
        "    if substitution is None:\n",
        "        return None\n",
        "    if is_variable(f) and (get_name(f) in substitution):\n",
        "        return substitute(substitution[get_name(f)], substitution)\n",
        "    if has_args(f):\n",
        "        return replace_args(f, [substitute(arg, substitution) for arg in get_args(f)])\n",
        "    return f\n",
        "\n",
        "def test_formula(x, copyy = False):\n",
        "    fun = make_function_call(add, make_const(1), make_const(2))\n",
        "    return make_and(make_or(make_neg(make_atom(\"P\", make_const(x))), make_atom(\"Q\", make_const(x))), \\\n",
        "                    make_atom(\"T\", fun if copyy else make_var(\"y\"), fun))\n",
        "\n",
        "# Test (trebuie să se vadă efectele substituțiilor în formulă)\n",
        "test_batch(1, globals())"
      ],
      "metadata": {
        "colab": {
          "base_uri": "https://localhost:8080/"
        },
        "id": "PQq6p2-DoQJ9",
        "outputId": "825f024a-9506-4ede-8d58-0fa8dbd21c6d"
      },
      "execution_count": 11,
      "outputs": [
        {
          "output_type": "stream",
          "name": "stdout",
          "text": [
            ">>> Test batch [1]\n",
            "Test 0: OK\n",
            "Test 1: OK\n",
            "Test 2: OK\n",
            "Test 3: OK\n",
            "Test 4: OK\n",
            ">>>  5 / 5 tests successful.\n"
          ]
        }
      ]
    },
    {
      "cell_type": "code",
      "source": [
        "# Verifică dacă variabila v apare în termenul t, având în vedere substituția subst.\n",
        "# Întoarce True dacă v apare în t (v NU poate fi înlocuită cu t), și False dacă v poate fi înlocuită cu t.\n",
        "from functools import partial\n",
        "\n",
        "def occur_check(v, t, subst):\n",
        "    if v == t:\n",
        "        return True\n",
        "    if get_name(t) in subst:\n",
        "        return occur_check(v, substitute(t, subst), subst)\n",
        "    if is_function_call(t):\n",
        "        return any(map(lambda arg: occur_check(v, arg, subst), get_args(t)))\n",
        "    return False\n",
        "\n",
        "# Test!\n",
        "test_batch(2, globals())"
      ],
      "metadata": {
        "colab": {
          "base_uri": "https://localhost:8080/"
        },
        "id": "P016RxjXod4z",
        "outputId": "05c10d38-de28-4e0e-bf75-3e5bb2dbf3d5"
      },
      "execution_count": 12,
      "outputs": [
        {
          "output_type": "stream",
          "name": "stdout",
          "text": [
            ">>> Test batch [2]\n",
            "Test 0: OK\n",
            "Test 1: OK\n",
            "Test 2: OK\n",
            "Test 3: OK\n",
            "Test 4: OK\n",
            "Test 5: OK\n",
            "Test 6: OK\n",
            ">>>  7 / 7 tests successful.\n"
          ]
        }
      ]
    },
    {
      "cell_type": "code",
      "source": [
        "# Unifică formulele f1 și f2, sub o substituție existentă subst.\n",
        "# Rezultatul unificării este o substituție (dicționar nume-variabilă -> termen),\n",
        "#  astfel încât dacă se aplică substituția celor două formule, rezultatul este identic.\n",
        "def unify(f1, f2, subst = None):\n",
        "    if not subst:\n",
        "        subst = {}\n",
        "    \n",
        "    st = [(f1, f2)]\n",
        "\n",
        "    while st:\n",
        "        f1, f2 = st.pop()\n",
        "\n",
        "        while get_name(f1) in subst:\n",
        "            f1 = substitute(f1, subst)\n",
        "        while get_name(f2) in subst: \n",
        "            f2 = substitute(f2, subst)\n",
        "\n",
        "        if f1 == f2:\n",
        "            continue\n",
        "\n",
        "        if is_variable(f1):\n",
        "            if occur_check(f1, f2, subst):\n",
        "                return False\n",
        "\n",
        "            subst[get_name(f1)] = f2\n",
        "        elif is_variable(f2):\n",
        "            if occur_check(f2, f1, subst):\n",
        "                return False\n",
        " \n",
        "            subst[get_name(f2)] = f1\n",
        "        elif has_args(f1) and has_args(f2):\n",
        "            if get_head(f1) == get_head(f2):\n",
        "                f1_args = get_args(f1)\n",
        "                f2_args = get_args(f2)\n",
        "\n",
        "                if len(f1_args) == len(f2_args):\n",
        "                    st += zip(f1_args, f2_args)\n",
        "            else:\n",
        "                return False\n",
        "        else:\n",
        "            return False\n",
        "\n",
        "    return subst\n",
        "\n",
        "# Test!\n",
        "test_batch(3, globals())"
      ],
      "metadata": {
        "colab": {
          "base_uri": "https://localhost:8080/"
        },
        "id": "rytmlrzEofcG",
        "outputId": "21f88e60-2390-4dfb-91a5-1d195f5de734"
      },
      "execution_count": 13,
      "outputs": [
        {
          "output_type": "stream",
          "name": "stdout",
          "text": [
            ">>> Test batch [3]\n",
            "Test 0: OK, got < False >\n",
            "Test 1: OK, got < {?x -> A} >\n",
            "Test 2: OK, got < {?x -> A} >\n",
            "Test 3: OK, got < {?x -> A} >\n",
            "Test 4: OK, got < {?x -> A} >\n",
            "Test 5: OK, got < {?x -> <built-in function add>[?Z,5]} >\n",
            "Test 6: OK, got < {?z -> C, ?y -> B, ?x -> A} >\n",
            "Test 7: OK, got < {?y -> 3, ?x -> 2} >\n",
            "Test 8: OK, got < False >\n",
            "Test 9: OK, got < False >\n",
            "Test 10: OK, got < {} >\n",
            "Test 11: OK, got < {?x -> ?y} >\n",
            "Test 12: OK, got < {?y -> ?x} >\n",
            "Test 13: OK, got < {?x -> A} >\n",
            "Test 14: OK, got < False >\n",
            "Test 15: OK, got < {?x -> A} >\n",
            "Test 16: OK, got < {?x -> A, ?z -> C, ?y -> B} >\n",
            "Test 17: OK, got < {?x -> A} >\n",
            "Test 18: OK, got < {?x -> ?y} >\n",
            "Test 19: OK, got < {?y -> ?x} >\n",
            "Test 20: OK, got < {?z -> 5, ?y -> 5, ?x -> 5} >\n",
            "Test 21: OK, got < {?z -> <built-in function add>[1,2], ?y -> 4, ?x -> 3} >\n",
            ">>>  22 / 22 tests successful.\n"
          ]
        }
      ]
    },
    {
      "cell_type": "code",
      "source": [
        "from copy import deepcopy\n",
        "from functools import reduce\n",
        "\n",
        "# în această celulă se găsesc câteva funcții utilizate intern\n",
        "\n",
        "dummy = make_atom(\"P\")\n",
        "[and_name, or_name, neg_name] = [get_head(s) for s in [make_and(dummy, dummy), make_or(dummy, dummy), make_neg(dummy)]]\n",
        "def pFail(message, f):\n",
        "    print(message + \" <\" + str(f) + \">\")\n",
        "    return False\n",
        "def check_term(T):\n",
        "    if is_constant(T):\n",
        "        return (get_value(T) is not None) or pFail(\"The value of the constant is None\", T)\n",
        "    if is_variable(T):\n",
        "        return (get_name(T) is not None) or pFail(\"The name of the variable is None\", T)\n",
        "    if is_function_call(T):\n",
        "        return not [t for t in get_args(T) if not check_term(t)] and \\\n",
        "            (get_head(T) is not None or pFail(\"Function is not callable\", T))\n",
        "    return pFail(\"Term is not one of constant, variable or function call\", T)\n",
        "def check_atom(A):\n",
        "    if is_atom(A):\n",
        "        return not [t for t in get_args(A) if not check_term(t)] and \\\n",
        "            (get_head(A) is not None or pFail(\"Predicate name is None\", A))\n",
        "    return pFail(\"Is not an atom\", A)\n",
        "def check_sentence(S):\n",
        "    if is_atom(S):\n",
        "        return check_atom(S)\n",
        "    if is_sentence(S):\n",
        "        if get_head(S) in [and_name, or_name]:\n",
        "            return (len(get_args(S)) >= 2 or pFail(\"Sentence has too few operands\", S)) \\\n",
        "                and not [s for s in get_args(S) if not check_sentence(s)]\n",
        "        if get_head(S) == neg_name:\n",
        "            return (len(get_args(S)) == 1 or pFail(\"Negative sentence has not just 1 operand\", S)) \\\n",
        "                and check_sentence(get_args(S)[0])\n",
        "    return pFail(\"Not sentence or unknown type\", S)\n",
        "\n",
        "def add_statement(kb, conclusion, *hypotheses):\n",
        "    s = conclusion if not hypotheses else make_or(*([make_neg(s) for s in hypotheses] + [conclusion]))\n",
        "    if check_sentence(s):\n",
        "        kb.append(s)\n",
        "        print(\"OK: Added statement \" + print_formula(s, True))\n",
        "        return True\n",
        "    print(\"-- FAILED CHECK: Sentence does not check out <\"+print_formula(s, True)+\"><\" + str(s) + \">\")\n",
        "    return False\n",
        "\n",
        "var_no = 0;\n",
        "\n",
        "def assign_next_var_name():\n",
        "    global var_no\n",
        "    var_no += 1\n",
        "    return \"v\" + str(var_no)\n",
        "\n",
        "def gather_vars(S):\n",
        "    return [get_name(S)] if is_variable(S) else \\\n",
        "        [] if not has_args(S) else reduce(lambda res, a: res + gather_vars(a), get_args(S), [])\n",
        "\n",
        "def make_unique_var_names(KB):\n",
        "    global var_no\n",
        "    var_no = 0\n",
        "    return [substitute(S, {var: make_var(assign_next_var_name()) for var in gather_vars(S)}) for S in KB]           \n",
        "            \n",
        "def print_KB(KB):\n",
        "    print(\"KB now:\")\n",
        "    for s in KB:\n",
        "        print(\"\\t\\t\\t\" + print_formula(s, True))"
      ],
      "metadata": {
        "id": "ULNCe4ULomBU"
      },
      "execution_count": 14,
      "outputs": []
    },
    {
      "cell_type": "code",
      "source": [
        "# KB 1\n",
        "# based on an example in Artificial Intelligence - A Modern Approach\n",
        "KB_America = []\n",
        "#0 Mr West is a US general\n",
        "add_statement(KB_America, make_atom(\"USGeneral\", make_const(\"West\")))\n",
        "#1 General Awesome is also a US general\n",
        "add_statement(KB_America, make_atom(\"USGeneral\", make_const(\"General_Awesome\")))\n",
        "#2 General Awesome is Awesome\n",
        "add_statement(KB_America, make_atom(\"Awesome\", make_const(\"General_Awesome\")))\n",
        "#3 Nono is an enemy of America\n",
        "add_statement(KB_America, make_atom(\"Enemy\", make_const(\"Nono\"), make_const(\"America\")))\n",
        "#4 M1 is a type of missile\n",
        "add_statement(KB_America, make_atom(\"Missile\", make_const(\"M1\")))\n",
        "#5 Nono has the M1 missile\n",
        "add_statement(KB_America, make_atom(\"Owns\", make_const(\"Nono\"), make_const(\"M1\")))\n",
        "\n",
        "#6 any US general is an American\n",
        "add_statement(KB_America, make_atom(\"American\", make_var(\"x\")), make_atom(\"USGeneral\", make_var(\"x\")))\n",
        "#7 any missle is a weapon\n",
        "add_statement(KB_America, make_atom(\"Weapon\", make_var(\"x\")), make_atom(\"Missile\", make_var(\"x\")))\n",
        "#8 if anyone owns a missile, it is General West that sold them that missile\n",
        "add_statement(KB_America, make_atom(\"Sells\", make_const(\"West\"), make_var(\"y\"), make_var(\"x\")), make_atom(\"Owns\", make_var(\"x\"), make_var(\"y\")), make_atom(\"Missile\", make_var(\"y\")))\n",
        "#9 any American who sells weapons to a hostile is a criminal\n",
        "add_statement(KB_America, make_atom(\"Criminal\", make_var(\"x\")), make_atom(\"Weapon\", make_var(\"y\")), make_atom(\"Sells\", make_var(\"x\"), make_var(\"y\"), make_var(\"z\")), make_atom(\"Hostile\", make_var(\"z\")), make_atom(\"American\", make_var(\"x\")))\n",
        "#10 any enemy of America is called a hostile\n",
        "add_statement(KB_America, make_atom(\"Hostile\", make_var(\"x\")), make_atom(\"Enemy\", make_var(\"x\"), make_const(\"America\")))\n",
        "#11 America is awesome if at least an American is awesome\n",
        "add_statement(KB_America, make_atom(\"Awesome\", make_const(\"America\")), make_atom(\"American\", make_var(\"x\")), make_atom(\"Awesome\", make_var(\"x\")))\n",
        "\n",
        "KB_America = make_unique_var_names(KB_America)\n",
        "\n",
        "print_KB(KB_America)"
      ],
      "metadata": {
        "colab": {
          "base_uri": "https://localhost:8080/"
        },
        "id": "wdr2J9Igostt",
        "outputId": "629e86e2-9ccb-4c63-9fb8-819b57346364"
      },
      "execution_count": 15,
      "outputs": [
        {
          "output_type": "stream",
          "name": "stdout",
          "text": [
            "OK: Added statement USGeneral(West)\n",
            "OK: Added statement USGeneral(General_Awesome)\n",
            "OK: Added statement Awesome(General_Awesome)\n",
            "OK: Added statement Enemy(Nono, America)\n",
            "OK: Added statement Missile(M1)\n",
            "OK: Added statement Owns(Nono, M1)\n",
            "OK: Added statement (| ~USGeneral(?x) American(?x))\n",
            "OK: Added statement (| ~Missile(?x) Weapon(?x))\n",
            "OK: Added statement (| ~Owns(?x, ?y) ~Missile(?y) Sells(West, ?y, ?x))\n",
            "OK: Added statement (| ~Weapon(?y) ~Sells(?x, ?y, ?z) ~Hostile(?z) ~American(?x) Criminal(?x))\n",
            "OK: Added statement (| ~Enemy(?x, America) Hostile(?x))\n",
            "OK: Added statement (| ~American(?x) ~Awesome(?x) Awesome(America))\n",
            "KB now:\n",
            "\t\t\tUSGeneral(West)\n",
            "\t\t\tUSGeneral(General_Awesome)\n",
            "\t\t\tAwesome(General_Awesome)\n",
            "\t\t\tEnemy(Nono, America)\n",
            "\t\t\tMissile(M1)\n",
            "\t\t\tOwns(Nono, M1)\n",
            "\t\t\t(| ~USGeneral(?v2) American(?v2))\n",
            "\t\t\t(| ~Missile(?v4) Weapon(?v4))\n",
            "\t\t\t(| ~Owns(?v9, ?v8) ~Missile(?v8) Sells(West, ?v8, ?v9))\n",
            "\t\t\t(| ~Weapon(?v12) ~Sells(?v16, ?v12, ?v14) ~Hostile(?v14) ~American(?v16) Criminal(?v16))\n",
            "\t\t\t(| ~Enemy(?v18, America) Hostile(?v18))\n",
            "\t\t\t(| ~American(?v20) ~Awesome(?v20) Awesome(America))\n"
          ]
        }
      ]
    },
    {
      "cell_type": "code",
      "source": [
        "# KB 2\n",
        "# din cursul de IA\n",
        "KB_Faster = []\n",
        "\n",
        "def the_greyhound():\n",
        "    return make_const(\"Greg\")\n",
        "\n",
        "#0 horses are faster than dogs\n",
        "add_statement(KB_Faster, make_atom(\"Faster\", make_var(\"x\"), make_var(\"y\")), make_atom(\"Horse\", make_var(\"x\")), make_atom(\"Dog\", make_var(\"y\")))\n",
        "#1 there is a greyhound that is faster than any rabbit\n",
        "add_statement(KB_Faster, make_atom(\"Faster\", make_function_call(the_greyhound), make_var(\"z\")), make_atom(\"Rabbit\", make_var(\"z\")))\n",
        "#2 Harry is a horse\n",
        "add_statement(KB_Faster, make_atom(\"Horse\", make_const(\"Harry\")))\n",
        "#3 Ralph is a rabbit\n",
        "add_statement(KB_Faster, make_atom(\"Rabbit\", make_const(\"Ralph\")))\n",
        "#4 Greg is a greyhound\n",
        "add_statement(KB_Faster, make_atom(\"Greyhound\", make_function_call(the_greyhound)))\n",
        "#5 A greyhound is a dog\n",
        "add_statement(KB_Faster, make_atom(\"Dog\", make_var(\"y\")), make_atom(\"Greyhound\", make_var(\"y\")))\n",
        "#6 transitivity\n",
        "add_statement(KB_Faster, make_atom(\"Faster\", make_var(\"x\"), make_var(\"z\")),\n",
        "              make_atom(\"Faster\", make_var(\"x\"), make_var(\"y\")), make_atom(\"Faster\", make_var(\"y\"), make_var(\"z\")))\n",
        "\n",
        "KB_Faster = make_unique_var_names(KB_Faster)\n",
        "\n",
        "print_KB(KB_Faster)"
      ],
      "metadata": {
        "colab": {
          "base_uri": "https://localhost:8080/"
        },
        "id": "xMBKvYNboyT7",
        "outputId": "d00c5fc2-1a72-44c4-b271-9046f2a3d929"
      },
      "execution_count": 16,
      "outputs": [
        {
          "output_type": "stream",
          "name": "stdout",
          "text": [
            "OK: Added statement (| ~Horse(?x) ~Dog(?y) Faster(?x, ?y))\n",
            "OK: Added statement (| ~Rabbit(?z) Faster(<function the_greyhound at 0x7f3b9d7fe680>[], ?z))\n",
            "OK: Added statement Horse(Harry)\n",
            "OK: Added statement Rabbit(Ralph)\n",
            "OK: Added statement Greyhound(<function the_greyhound at 0x7f3b9d7fe680>[])\n",
            "OK: Added statement (| ~Greyhound(?y) Dog(?y))\n",
            "OK: Added statement (| ~Faster(?x, ?y) ~Faster(?y, ?z) Faster(?x, ?z))\n",
            "KB now:\n",
            "\t\t\t(| ~Horse(?v3) ~Dog(?v4) Faster(?v3, ?v4))\n",
            "\t\t\t(| ~Rabbit(?v6) Faster(<function the_greyhound at 0x7f3b9d7fe680>[], ?v6))\n",
            "\t\t\tHorse(Harry)\n",
            "\t\t\tRabbit(Ralph)\n",
            "\t\t\tGreyhound(<function the_greyhound at 0x7f3b9d7fe680>[])\n",
            "\t\t\t(| ~Greyhound(?v8) Dog(?v8))\n",
            "\t\t\t(| ~Faster(?v13, ?v11) ~Faster(?v11, ?v14) Faster(?v13, ?v14))\n"
          ]
        }
      ]
    },
    {
      "cell_type": "code",
      "source": [
        "KB_test = []\n",
        "add_statement(KB_test, make_atom(\"Q\", make_var(\"x\")), make_atom(\"P\", make_var(\"x\")))\n",
        "add_statement(KB_test, make_atom(\"P\", make_const(\"A\")))\n",
        "\n",
        "KB_test = make_unique_var_names(KB_test)\n",
        "print_KB(KB_test)"
      ],
      "metadata": {
        "colab": {
          "base_uri": "https://localhost:8080/"
        },
        "id": "VCVA9zW0o2Qe",
        "outputId": "0b44d310-c5f5-44cb-bb84-2289720fe514"
      },
      "execution_count": 17,
      "outputs": [
        {
          "output_type": "stream",
          "name": "stdout",
          "text": [
            "OK: Added statement (| ~P(?x) Q(?x))\n",
            "OK: Added statement P(A)\n",
            "KB now:\n",
            "\t\t\t(| ~P(?v2) Q(?v2))\n",
            "\t\t\tP(A)\n"
          ]
        }
      ]
    },
    {
      "cell_type": "code",
      "source": [
        "def is_positive_literal(L):\n",
        "    return is_atom(L)\n",
        "def is_negative_literal(L):\n",
        "    global neg_name\n",
        "    return get_head(L) == neg_name and is_positive_literal(get_args(L)[0])\n",
        "def is_literal(L):\n",
        "    return is_positive_literal(L) or is_negative_literal(L)\n",
        "\n",
        "def resolves(C1, C2):\n",
        "    #print(\"testing \" + print_formula(C1, True) + \" and \" + print_formula(C2, True))\n",
        " \n",
        "    # întoarce un tuplu (literal-din-C1, literal-din-C2, substituție)\n",
        "    # unde literal-din-C1 și literal-din-C2 unifică sub substituție\n",
        "    return False\n",
        "\n",
        "# Test!\n",
        "test_batch(4, globals())"
      ],
      "metadata": {
        "colab": {
          "base_uri": "https://localhost:8080/"
        },
        "id": "ri7zryUco6PI",
        "outputId": "83325240-506d-43cd-f4c6-c15d454ec6e1"
      },
      "execution_count": 18,
      "outputs": [
        {
          "output_type": "stream",
          "name": "stdout",
          "text": [
            ">>> Test batch [4]\n",
            "Test 0 : Result should be a 3-tuple, was < False >; Test was resolves USGeneral(General_Awesome) with (| ~USGeneral(?v2) American(?v2))\n",
            "Test 1 : Result should be a 3-tuple, was < False >; Test was resolves Owns(Nono, M1) with (| ~Owns(?v9, ?v8) ~Missile(?v8) Sells(West, ?v8, ?v9))\n",
            "Test 2 : Result should be a 3-tuple, was < False >; Test was resolves (| ~Weapon(?v12) ~Sells(?v16, ?v12, ?v14) ~Hostile(?v14) ~American(?v16) Criminal(?v16)) with (| ~USGeneral(?v2) American(?v2))\n",
            "Test 3 : Result should be a 3-tuple, was < False >; Test was resolves Enemy(Nono, America) with (| ~Enemy(?v18, America) Hostile(?v18))\n",
            "Test 4: OK, got < False >\n",
            "Test 5: OK, got < False >\n",
            "Test 6: OK, got < False >\n",
            "Test 7: OK, got < False >\n",
            "Test 8 : Result should be a 3-tuple, was < False >; Test was resolves (| P(?x) Q(5)) with (| ~Q(5) R(?y))\n",
            "Test 9: OK, got < False >\n",
            ">>>  5 / 10 tests successful.\n"
          ]
        }
      ]
    },
    {
      "cell_type": "code",
      "source": [
        "# prints a 5-tuple resolvent representation (see below)\n",
        "def print_r(R):\n",
        "    if R is None:\n",
        "        print(\"no resolvent\")\n",
        "    else:\n",
        "        print(\"resolvent: \" + print_formula(R[2], True) + \"/\" + print_formula(R[3], True) \\\n",
        "              + \" {\" + \", \".join([(k + \": \" + str(R[4][k])) for k in R[4]]) + \"}\" \\\n",
        "              + \"\\n\\t\\t in \" + print_formula(R[0], True) + \"\\n\\t\\t and \" + print_formula(R[1], True))"
      ],
      "metadata": {
        "id": "Zxan-00Jqlag"
      },
      "execution_count": 19,
      "outputs": []
    },
    {
      "cell_type": "code",
      "source": [
        "from copy import deepcopy\n",
        "\n",
        "VOID_CLAUSE = \"The void clause\"\n",
        "\n",
        "def new_clause(resolvent):\n",
        "    C1, C2, L1, L2, s = resolvent\n",
        "\n",
        "    C1_args = deepcopy([C1] if is_literal(C1) else get_args(C1))\n",
        "    C2_args = deepcopy([C2] if is_literal(C2) else get_args(C2))\n",
        "\n",
        "    if L1 in C1_args:\n",
        "        C1_args.remove(L1)\n",
        "    if L2 in C2_args:\n",
        "        C2_args.remove(L2)\n",
        "\n",
        "    all_args = list(map(lambda a: substitute(a, s), C1_args + C2_args))\n",
        "\n",
        "    C_args = []\n",
        "    for arg in all_args:\n",
        "        if arg not in C_args:\n",
        "            C_args.append(arg)\n",
        "\n",
        "    if not C_args:\n",
        "        return VOID_CLAUSE\n",
        "    elif len(C_args) == 1:\n",
        "        return C_args[0]\n",
        "    else:\n",
        "        return make_or(*C_args)\n",
        "\n",
        "# Test!\n",
        "test_batch(5, globals())"
      ],
      "metadata": {
        "colab": {
          "base_uri": "https://localhost:8080/"
        },
        "id": "nBPls7GUqmd7",
        "outputId": "234d352c-06d1-49b6-8407-19650661aa71"
      },
      "execution_count": 20,
      "outputs": [
        {
          "output_type": "stream",
          "name": "stdout",
          "text": [
            ">>> Test batch [5]\n",
            "Test 0: OK, got < The void clause >\n",
            "Test 1: OK, got < Q(?y) >\n",
            "Test 2: OK, got < ~Q(5) >\n",
            "Test 3: OK\n",
            ">>>  4 / 4 tests successful.\n"
          ]
        }
      ]
    },
    {
      "cell_type": "code",
      "source": [
        "def solve_problem(hypotheses, conclusion):\n",
        "    KB = hypotheses[:]\n",
        "    KB = [make_neg(conclusion)] + KB # puteți adăuga și la sfârșit (în funcție de strategie)\n",
        "    Effort = 50 # puteți crește efortul dacă este necesar\n",
        "    \n",
        "    while Effort > 0:\n",
        "        Effort -= 1\n",
        "      \n",
        "        # Se aleg două clauze Clauza1 și Clauza2, care nu au mai fost alese anterior\n",
        "        \n",
        "        # Se calculează un rezolvent, ca tuplu (Clauza1, Clauza2, Literal-din-clauza1, Literal-din-clauza2, substituție)\n",
        "        resolvent = None # TODO\n",
        "\n",
        "        print_r(resolvent)\n",
        "        if resolvent is None:\n",
        "            print(\"Failed. No resolving clauses. Effort left \" + str(Effort))\n",
        "            return False\n",
        "        \n",
        "        # Se calculează noua clauză de adăugat și se adaugă la baza de cunoștințe\n",
        "        \n",
        "        C = new_clause(resolvent)\n",
        "        \n",
        "        if C == VOID_CLAUSE:\n",
        "            print(\"Done (effort left \" + str(Effort) + \")\")\n",
        "            return True\n",
        "        \n",
        "        # update KB\n",
        "        print(\"Added: \" + print_formula(C, True))\n",
        "        KB = [C] + KB\n",
        "\n",
        "        print_KB(KB)\n",
        "    print(\"Failed. Effort exhausted.\")\n",
        "                \n",
        "        \n",
        "#print_KB(KB_test)\n",
        "solve_problem(deepcopy(KB_test), make_atom(\"Q\", make_const(\"A\")))\n",
        "print(\"==========================================\")\n",
        "\n",
        "#print_KB(KB_America)\n",
        "#solve_problem(deepcopy(KB_America), make_atom(\"Criminal\", make_const(\"West\")))\n",
        "print(\"==========================================\")\n",
        "\n",
        "#print_KB(KB_Faster)\n",
        "#solve_problem(deepcopy(KB_Faster), make_atom(\"Faster\", make_const(\"Harry\"), make_const(\"Ralph\")))\n",
        "print(\"==========================================\")"
      ],
      "metadata": {
        "colab": {
          "base_uri": "https://localhost:8080/"
        },
        "id": "J9EF2dJdSxI1",
        "outputId": "8539ef5b-87f0-4bce-d426-dd42d1a0d9f8"
      },
      "execution_count": 23,
      "outputs": [
        {
          "output_type": "stream",
          "name": "stdout",
          "text": [
            "no resolvent\n",
            "Failed. No resolving clauses. Effort left 49\n",
            "==========================================\n",
            "==========================================\n",
            "==========================================\n"
          ]
        }
      ]
    }
  ]
}