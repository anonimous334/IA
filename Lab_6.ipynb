{
  "nbformat": 4,
  "nbformat_minor": 0,
  "metadata": {
    "colab": {
      "name": "Lab6_IA_Stanescu_Alexandru_344C3.ipynb",
      "provenance": []
    },
    "kernelspec": {
      "name": "python3",
      "display_name": "Python 3"
    },
    "language_info": {
      "name": "python"
    }
  },
  "cells": [
    {
      "cell_type": "code",
      "metadata": {
        "colab": {
          "base_uri": "https://localhost:8080/"
        },
        "id": "0zACobgSUXdX",
        "outputId": "e063adbc-5dd2-4515-e154-97708d245383"
      },
      "source": [
        "from collections import namedtuple\n",
        "Factor = namedtuple(\"Factor\", [\"vars\", \"values\"])\n",
        "\n",
        "def print_factor(phi, indent=\"\\t\"):\n",
        "    line = \" | \".join(phi.vars + [\"ϕ(\" + \",\".join(phi.vars) + \")\"])\n",
        "    sep = \"\".join([\"+\" if c == \"|\" else \"-\" for c in list(line)])\n",
        "    print(indent + sep)\n",
        "    print(indent + line)\n",
        "    print(indent +sep)\n",
        "    for values, p in phi.values.items():\n",
        "        print(indent + \" | \".join([str(v) for v in values] + [str(p)]))\n",
        "    print(indent + sep)\n",
        "\n",
        "# Examples\n",
        "\n",
        "phi_ABC = Factor(vars=[\"A\", \"B\", \"C\"],\n",
        "                 values={(0, 0, 0): .1, (0, 0, 1): .9, (0, 1, 0): .8, (0, 1, 1): .2,\n",
        "                         (1, 0, 0): .7, (1, 0, 1): .4, (1, 1, 0): .5, (1, 1, 1): .5})\n",
        "phi_AB = Factor(vars=[\"A\", \"B\"], values={(0, 0): .1, (0, 1): .9, (1, 0): .8, (1, 1): .2})\n",
        "phi_BC = Factor(vars=[\"B\", \"C\"], values={(0, 0): .2, (0, 1): .8, (1, 0): .5, (1, 1): .5})\n",
        "phi_A = Factor(vars=[\"A\"], values={(0,): .4, (1,): .6})\n",
        "phi_C = Factor(vars=[\"C\"], values={(0,): .6, (1,): .8})\n",
        "\n",
        "print_factor(phi_ABC)\n",
        "print(\"ϕ(A=1, B=0, C=0) = \" + str(phi_ABC.values[(1, 0, 0)]))"
      ],
      "execution_count": 1,
      "outputs": [
        {
          "output_type": "stream",
          "name": "stdout",
          "text": [
            "\t--+---+---+---------\n",
            "\tA | B | C | ϕ(A,B,C)\n",
            "\t--+---+---+---------\n",
            "\t0 | 0 | 0 | 0.1\n",
            "\t0 | 0 | 1 | 0.9\n",
            "\t0 | 1 | 0 | 0.8\n",
            "\t0 | 1 | 1 | 0.2\n",
            "\t1 | 0 | 0 | 0.7\n",
            "\t1 | 0 | 1 | 0.4\n",
            "\t1 | 1 | 0 | 0.5\n",
            "\t1 | 1 | 1 | 0.5\n",
            "\t--+---+---+---------\n",
            "ϕ(A=1, B=0, C=0) = 0.7\n"
          ]
        }
      ]
    },
    {
      "cell_type": "code",
      "metadata": {
        "id": "K-Gqaa37Uddh"
      },
      "source": [
        "# Multiplicarea a doi factori:\n",
        "def _rows_match(p1, p2, common_pos1, common_pos2):\n",
        "    return [p1[i] for i in common_pos1] == [p2[j] for j in common_pos2]\n",
        "\n",
        "\n",
        "def _get_merged_indices(vars1, p1, vars2, p2, unified):\n",
        "    return tuple([p1[vars1.index(var)] if var in vars1 else p2[vars2.index(var)] for var in unified])\n",
        "\n",
        "\n",
        "def multiply(phi1, phi2):\n",
        "    assert isinstance(phi1, Factor) and isinstance(phi2, Factor)\n",
        "    # Cerinta 1 :\n",
        "\n",
        "    vars_set1 = set(phi1.vars)\n",
        "    vars_set2 = set(phi2.vars)\n",
        "    phi_vars = vars_set1 | vars_set2\n",
        "\n",
        "    phi = Factor(vars=list(phi_vars), values={})\n",
        "    common_vars = vars_set1 & vars_set2\n",
        "\n",
        "    common_pos1 = [phi1.vars.index(var) for var in common_vars]\n",
        "    common_pos2 = [phi2.vars.index(var) for var in common_vars]\n",
        "\n",
        "    for p1, val1 in phi1.values.items():\n",
        "        for p2, val2 in phi2.values.items():\n",
        "            if _rows_match(p1, p2, common_pos1, common_pos2):\n",
        "                key = _get_merged_indices(phi1.vars, p1, phi2.vars, p2, phi_vars)\n",
        "                phi.values[key] = val1 * val2\n",
        "\n",
        "    return phi"
      ],
      "execution_count": 2,
      "outputs": []
    },
    {
      "cell_type": "code",
      "metadata": {
        "colab": {
          "base_uri": "https://localhost:8080/"
        },
        "id": "2oXqXIUaUgcf",
        "outputId": "33afbe69-fd0b-4dea-c0a2-8e4081b3b7cc"
      },
      "source": [
        "print_factor(phi_AB)\n",
        "print(\"*\")\n",
        "print_factor(phi_BC)\n",
        "print(\"=\")\n",
        "print_factor(multiply(phi_AB, phi_BC))"
      ],
      "execution_count": 3,
      "outputs": [
        {
          "output_type": "stream",
          "name": "stdout",
          "text": [
            "\t--+---+-------\n",
            "\tA | B | ϕ(A,B)\n",
            "\t--+---+-------\n",
            "\t0 | 0 | 0.1\n",
            "\t0 | 1 | 0.9\n",
            "\t1 | 0 | 0.8\n",
            "\t1 | 1 | 0.2\n",
            "\t--+---+-------\n",
            "*\n",
            "\t--+---+-------\n",
            "\tB | C | ϕ(B,C)\n",
            "\t--+---+-------\n",
            "\t0 | 0 | 0.2\n",
            "\t0 | 1 | 0.8\n",
            "\t1 | 0 | 0.5\n",
            "\t1 | 1 | 0.5\n",
            "\t--+---+-------\n",
            "=\n",
            "\t--+---+---+---------\n",
            "\tA | B | C | ϕ(A,B,C)\n",
            "\t--+---+---+---------\n",
            "\t0 | 0 | 0 | 0.020000000000000004\n",
            "\t0 | 0 | 1 | 0.08000000000000002\n",
            "\t0 | 1 | 0 | 0.45\n",
            "\t0 | 1 | 1 | 0.45\n",
            "\t1 | 0 | 0 | 0.16000000000000003\n",
            "\t1 | 0 | 1 | 0.6400000000000001\n",
            "\t1 | 1 | 0 | 0.1\n",
            "\t1 | 1 | 1 | 0.1\n",
            "\t--+---+---+---------\n"
          ]
        }
      ]
    },
    {
      "cell_type": "code",
      "metadata": {
        "colab": {
          "base_uri": "https://localhost:8080/"
        },
        "id": "KktUsX4MUkVk",
        "outputId": "677676c1-eec9-41f2-ba91-bacca104c2ee"
      },
      "source": [
        "## Tests for multiply\n",
        "\n",
        "from itertools import permutations\n",
        "from operator import mul\n",
        "from functools import reduce\n",
        "import sys\n",
        "from copy import deepcopy\n",
        "\n",
        "def _check_factor(_phi, all_vars, control):\n",
        "    assert sorted(_phi.vars) == sorted(all_vars), \\\n",
        "        \"Wrong variables: \" + ','.join(_phi.vars) + \" instead of \" + ','.join(all_vars)\n",
        "    assert len(_phi.values) == 2 ** len(all_vars), \\\n",
        "        \"Wrong number of entries in phi.values: \" + str(len(_phi.values))\n",
        "    n = len(all_vars)\n",
        "    if n > 0:\n",
        "        for j in range(n + 1):\n",
        "            vals = [0] * (n - j) + [1] * j\n",
        "            keys = set([p for p in permutations(vals)])\n",
        "            p = reduce(mul, [_phi.values[k] for k in keys])\n",
        "            assert abs(p - control[j]) < 1e-9, \\\n",
        "                \"Values for \" + str(keys) + \" are wrong!\"\n",
        "    else:\n",
        "        assert abs(_phi.values[()] - control[0]) < 1e-9\n",
        "\n",
        "\n",
        "def _test_multiply(name1, name2, all_vars, control, verbose=False):\n",
        "    _phi = eval(\"multiply(deepcopy(phi_\"+name1+\"), deepcopy(phi_\"+name2+\"))\")\n",
        "    if verbose:\n",
        "        print(\"Result of ϕ_\"+name+\" * ϕ_\"+name2+\":\")\n",
        "        print_factor(_phi)\n",
        "    sys.stdout.write(\"Testing  ϕ_\"+name1+\" * ϕ_\"+name2+\" ... \")\n",
        "    _check_factor(_phi, all_vars, control)\n",
        "    print(\"OK!!\")\n",
        "\n",
        "_test_multiply(\"AB\", \"BC\", [\"A\", \"B\", \"C\"], [.02, .00576, .0288, .1], verbose=False)\n",
        "_test_multiply(\"A\", \"BC\", [\"A\", \"B\", \"C\"], [.08, .00768, .0288, .3])\n",
        "_test_multiply(\"A\", \"AB\", [\"A\", \"B\"], [.04, .1728, .12])\n",
        "_test_multiply(\"BC\", \"A\", [\"C\", \"A\", \"B\"], [.08, .00768, .0288, .3])\n",
        "_test_multiply(\"ABC\", \"BC\", [\"C\", \"A\", \"B\"], [.02, .04032, .008, .25])\n",
        "_test_multiply(\"C\", \"A\", [\"C\", \"A\"], [.24, .1152, .48])\n",
        "_test_multiply(\"A\", \"C\", [\"C\", \"A\"], [.24, .1152, .48])\n",
        "_test_multiply(\"C\", \"C\", [\"C\"], [.36, .64])\n",
        "\n",
        "print(\"\\nMultiply seems ok!\\n\")"
      ],
      "execution_count": 4,
      "outputs": [
        {
          "output_type": "stream",
          "name": "stdout",
          "text": [
            "Testing  ϕ_AB * ϕ_BC ... OK!!\n",
            "Testing  ϕ_A * ϕ_BC ... OK!!\n",
            "Testing  ϕ_A * ϕ_AB ... OK!!\n",
            "Testing  ϕ_BC * ϕ_A ... OK!!\n",
            "Testing  ϕ_ABC * ϕ_BC ... OK!!\n",
            "Testing  ϕ_C * ϕ_A ... OK!!\n",
            "Testing  ϕ_A * ϕ_C ... OK!!\n",
            "Testing  ϕ_C * ϕ_C ... OK!!\n",
            "\n",
            "Multiply seems ok!\n",
            "\n"
          ]
        }
      ]
    },
    {
      "cell_type": "code",
      "metadata": {
        "id": "3e2OsT3qUm46"
      },
      "source": [
        "def _get_reduced_indices(pos, idx1, idx2):\n",
        "    reduced_idx = idx1[:pos] + idx1[(pos + 1):]\n",
        "\n",
        "    if reduced_idx == idx2[:pos] + idx2[(pos + 1):]:\n",
        "        return reduced_idx\n",
        "\n",
        "\n",
        "def sum_out(var, phi):\n",
        "    assert isinstance(phi, Factor) and var in phi.vars\n",
        "    # Cerinta 2:\n",
        "\n",
        "    pos = phi.vars.index(var)\n",
        "    new_phi = Factor(vars=deepcopy(phi.vars), values={})\n",
        "    new_phi.vars.remove(var)\n",
        "\n",
        "    for p1, val1 in phi.values.items():\n",
        "        for p2, val2 in phi.values.items():\n",
        "            if p1 != p2:\n",
        "                idx = _get_reduced_indices(pos, p1, p2)\n",
        "                if idx is not None:\n",
        "                    new_phi.values[idx] = val1 + val2\n",
        "\n",
        "    return new_phi"
      ],
      "execution_count": 5,
      "outputs": []
    },
    {
      "cell_type": "code",
      "metadata": {
        "colab": {
          "base_uri": "https://localhost:8080/"
        },
        "id": "dDF5UDqDUotQ",
        "outputId": "ec16b23e-60bb-4abd-9476-7068f41aebed"
      },
      "source": [
        "# Un exemplu\n",
        "\n",
        "print(\"Însumând B afară din\")\n",
        "print_factor(phi_ABC)\n",
        "print(\"=\")\n",
        "print_factor(sum_out(\"B\", phi_ABC))"
      ],
      "execution_count": 6,
      "outputs": [
        {
          "output_type": "stream",
          "name": "stdout",
          "text": [
            "Însumând B afară din\n",
            "\t--+---+---+---------\n",
            "\tA | B | C | ϕ(A,B,C)\n",
            "\t--+---+---+---------\n",
            "\t0 | 0 | 0 | 0.1\n",
            "\t0 | 0 | 1 | 0.9\n",
            "\t0 | 1 | 0 | 0.8\n",
            "\t0 | 1 | 1 | 0.2\n",
            "\t1 | 0 | 0 | 0.7\n",
            "\t1 | 0 | 1 | 0.4\n",
            "\t1 | 1 | 0 | 0.5\n",
            "\t1 | 1 | 1 | 0.5\n",
            "\t--+---+---+---------\n",
            "=\n",
            "\t--+---+-------\n",
            "\tA | C | ϕ(A,C)\n",
            "\t--+---+-------\n",
            "\t0 | 0 | 0.9\n",
            "\t0 | 1 | 1.1\n",
            "\t1 | 0 | 1.2\n",
            "\t1 | 1 | 0.9\n",
            "\t--+---+-------\n"
          ]
        }
      ]
    },
    {
      "cell_type": "code",
      "metadata": {
        "colab": {
          "base_uri": "https://localhost:8080/"
        },
        "id": "HU1uWkZ6UrRG",
        "outputId": "96f6031a-7121-4cf8-ad60-d7aef1586726"
      },
      "source": [
        "## Tests for sum_out\n",
        "\n",
        "def _test_sum_out(var, name, left_vars, control, verbose=False):\n",
        "    import sys\n",
        "    from itertools import permutations\n",
        "    from operator import mul\n",
        "    from functools import reduce\n",
        "    _phi = eval(\"sum_out('\"+var+\"', phi_\"+name+\")\")\n",
        "    if verbose:\n",
        "        print_factor(_phi)\n",
        "    sys.stdout.write(\"Testing  sum_\"+var+\" ϕ_\"+name+\" ... \")\n",
        "    _check_factor(_phi, left_vars, control)\n",
        "    print(\"OK!!\")\n",
        "\n",
        "_test_sum_out(\"A\", \"ABC\", [\"C\", \"B\"], [.8, 1.69, .7], verbose=False)\n",
        "_test_sum_out(\"B\", \"ABC\", [\"A\", \"C\"], [.9, 1.32, .9], verbose=False)\n",
        "_test_sum_out(\"C\", \"C\", [], [1.4], verbose=False)\n",
        "_test_sum_out(\"A\", \"A\", [], [1.], verbose=False)\n",
        "_test_sum_out(\"B\", \"BC\", [\"C\"], [.7, 1.3], verbose=False)\n",
        "\n",
        "print(\"\\nSummations seem ok!\\n\")"
      ],
      "execution_count": 7,
      "outputs": [
        {
          "output_type": "stream",
          "name": "stdout",
          "text": [
            "Testing  sum_A ϕ_ABC ... OK!!\n",
            "Testing  sum_B ϕ_ABC ... OK!!\n",
            "Testing  sum_C ϕ_C ... OK!!\n",
            "Testing  sum_A ϕ_A ... OK!!\n",
            "Testing  sum_B ϕ_BC ... OK!!\n",
            "\n",
            "Summations seem ok!\n",
            "\n"
          ]
        }
      ]
    },
    {
      "cell_type": "code",
      "metadata": {
        "id": "VCrc2XKGUr7o"
      },
      "source": [
        "def prod_sum(var, Phi, verbose=False):\n",
        "    assert isinstance(var, str) and all([isinstance(phi, Factor) for phi in Phi])\n",
        "    # Cerinta 3:\n",
        "    new_Phi = list(filter(lambda phi: var in phi.vars, Phi))\n",
        "    omega = reduce(multiply, new_Phi)\n",
        "    tau = sum_out(var, omega)\n",
        "    ret_Phi = list(filter(lambda phi: phi not in new_Phi, Phi)) + [tau]\n",
        "\n",
        "    if verbose:\n",
        "        map(print_factor, ret_Phi)\n",
        "\n",
        "    return ret_Phi"
      ],
      "execution_count": 8,
      "outputs": []
    },
    {
      "cell_type": "code",
      "metadata": {
        "colab": {
          "base_uri": "https://localhost:8080/"
        },
        "id": "pKreyRcdUu0I",
        "outputId": "cc6636e8-7208-4e0b-cf31-5807c3c75999"
      },
      "source": [
        "# Un exemplu\n",
        "print(\"Elininând B din :\")\n",
        "print_factor(phi_AB)\n",
        "print(\"și\")\n",
        "print_factor(phi_BC)\n",
        "print(\"=>\")\n",
        "print_factor(prod_sum(\"B\", [phi_AB, phi_BC])[0])"
      ],
      "execution_count": 9,
      "outputs": [
        {
          "output_type": "stream",
          "name": "stdout",
          "text": [
            "Elininând B din :\n",
            "\t--+---+-------\n",
            "\tA | B | ϕ(A,B)\n",
            "\t--+---+-------\n",
            "\t0 | 0 | 0.1\n",
            "\t0 | 1 | 0.9\n",
            "\t1 | 0 | 0.8\n",
            "\t1 | 1 | 0.2\n",
            "\t--+---+-------\n",
            "și\n",
            "\t--+---+-------\n",
            "\tB | C | ϕ(B,C)\n",
            "\t--+---+-------\n",
            "\t0 | 0 | 0.2\n",
            "\t0 | 1 | 0.8\n",
            "\t1 | 0 | 0.5\n",
            "\t1 | 1 | 0.5\n",
            "\t--+---+-------\n",
            "=>\n",
            "\t--+---+-------\n",
            "\tA | C | ϕ(A,C)\n",
            "\t--+---+-------\n",
            "\t0 | 0 | 0.47000000000000003\n",
            "\t0 | 1 | 0.53\n",
            "\t1 | 0 | 0.26\n",
            "\t1 | 1 | 0.7400000000000001\n",
            "\t--+---+-------\n"
          ]
        }
      ]
    },
    {
      "cell_type": "code",
      "metadata": {
        "colab": {
          "base_uri": "https://localhost:8080/"
        },
        "id": "pxeY7nc8UzWk",
        "outputId": "9d1d7d73-773d-4b87-e56a-27f9ef43718e"
      },
      "source": [
        "## Test prod_sum\n",
        "\n",
        "sys.stdout.write(\"Testing prod-sum (I) ... \")\n",
        "result = prod_sum(\"B\", [deepcopy(_phi) for _phi in [phi_A, phi_C, phi_ABC, phi_BC]])\n",
        "assert len(result) == 3\n",
        "for _phi in result:\n",
        "    if sorted(_phi.vars) == [\"A\", \"C\"]:\n",
        "        assert abs(_phi.values[(0, 0)] - 0.42) < 1e-9\n",
        "        assert abs(_phi.values[(0, 1)] * _phi.values[(1, 0)] - 0.3198) < 1e-9\n",
        "        assert abs(_phi.values[(1, 1)] - 0.57) < 1e-9\n",
        "    elif sorted(_phi.vars) == [\"A\"]:\n",
        "        assert abs(_phi.values[(0,)] - 0.4) < 1e-9\n",
        "        assert abs(_phi.values[(1,)] - 0.6) < 1e-9\n",
        "    elif sorted(_phi.vars) == [\"C\"]:\n",
        "        assert abs(_phi.values[(0,)] - 0.6) < 1e-9\n",
        "        assert abs(_phi.values[(1,)] - 0.8) < 1e-9\n",
        "print(\"OK!\")\n",
        "\n",
        "sys.stdout.write(\"Testing prod-sum (II) ... \")\n",
        "result = prod_sum(\"A\", [deepcopy(_phi) for _phi in [phi_A, phi_C, phi_ABC, phi_BC]])\n",
        "assert len(result) == 3\n",
        "for _phi in result:\n",
        "    if sorted(_phi.vars) == [\"B\", \"C\"]:\n",
        "        assert abs(_phi.values[(0, 0)] - 0.2) < 1e-9 or abs(_phi.values[(0, 0)] - 0.46) < 1e-9\n",
        "        assert abs(_phi.values[(0, 1)] * _phi.values[(1, 0)] - 0.4) < 1e-9 or \\\n",
        "               abs(_phi.values[(0, 1)] * _phi.values[(1, 0)] - 0.372) < 1e-9\n",
        "        assert abs(_phi.values[(1, 1)] - 0.5) < 1e-9 or abs(_phi.values[(1, 1)] - 0.38) < 1e-9\n",
        "    elif sorted(_phi.vars) == [\"C\"]:\n",
        "        assert abs(_phi.values[(0,)] - 0.6) < 1e-9\n",
        "        assert abs(_phi.values[(1,)] - 0.8) < 1e-9\n",
        "print(\"OK!\")\n",
        "print(\"Prod-Sum seems ok!\")"
      ],
      "execution_count": 10,
      "outputs": [
        {
          "output_type": "stream",
          "name": "stdout",
          "text": [
            "Testing prod-sum (I) ... OK!\n",
            "Testing prod-sum (II) ... OK!\n",
            "Prod-Sum seems ok!\n"
          ]
        }
      ]
    },
    {
      "cell_type": "code",
      "metadata": {
        "id": "5BMunAcIU3D2"
      },
      "source": [
        "def variable_elimination(Phi, Z, verbose=False):\n",
        "    # Cerinta 4:\n",
        "    for var in Z:\n",
        "        Phi = prod_sum(var, Phi)\n",
        "    \n",
        "    ret_Phi = reduce(multiply, Phi)\n",
        "\n",
        "    if verbose:\n",
        "        map(print_factor, ret_Phi)\n",
        "\n",
        "    return ret_Phi"
      ],
      "execution_count": 14,
      "outputs": []
    },
    {
      "cell_type": "code",
      "metadata": {
        "colab": {
          "base_uri": "https://localhost:8080/"
        },
        "id": "Mr_BmiO1VboW",
        "outputId": "7d851b84-e2bf-4736-dd0b-ed7a801e73fd"
      },
      "source": [
        "## Testing Variable elimination\n",
        "\n",
        "def _test_variable_elimination(Phi, Vars, left_vars, control, verbose=False):\n",
        "\n",
        "    \n",
        "    var_list = '[\"' + '\", \"'.join(Vars) + '\"]'\n",
        "    factor_list = '[' + ','.join([(\"deepcopy(phi_\"+name + \")\") for name in Phi]) +']'\n",
        "    name_list = '[' + ','.join([(\"ϕ_\"+name) for name in Phi]) +']'\n",
        "    _phi = eval(\"variable_elimination(\"+factor_list+\", \"+var_list+\")\")\n",
        "    if verbose:\n",
        "        print_factor(_phi)\n",
        "    sys.stdout.write(\"Testing  eliminate_var \"+var_list+\" from \"+name_list+\" ... \")\n",
        "    _check_factor(_phi, left_vars, control)\n",
        "    print(\"OK!!\")\n",
        "\n",
        "_test_variable_elimination([\"A\", \"C\"], [\"C\"], [\"A\"], [0.56, 0.84])\n",
        "_test_variable_elimination([\"ABC\", \"BC\", \"AB\", \"A\"], [\"C\", \"B\"], [\"A\"], [0.2096, 0.2808])\n",
        "_test_variable_elimination([\"ABC\", \"BC\", \"AB\", \"A\"], [\"C\", \"B\", \"A\"], [], [0.4904])\n",
        "_test_variable_elimination([\"ABC\", \"AB\", \"BC\", \"A\"], [\"A\", \"B\", \"C\"], [], [0.4904])\n",
        "_test_variable_elimination([\"ABC\"], [\"A\", \"B\", \"C\"], [], [4.1])"
      ],
      "execution_count": 15,
      "outputs": [
        {
          "output_type": "stream",
          "name": "stdout",
          "text": [
            "Testing  eliminate_var [\"C\"] from [ϕ_A,ϕ_C] ... OK!!\n",
            "Testing  eliminate_var [\"C\", \"B\"] from [ϕ_ABC,ϕ_BC,ϕ_AB,ϕ_A] ... OK!!\n",
            "Testing  eliminate_var [\"C\", \"B\", \"A\"] from [ϕ_ABC,ϕ_BC,ϕ_AB,ϕ_A] ... OK!!\n",
            "Testing  eliminate_var [\"A\", \"B\", \"C\"] from [ϕ_ABC,ϕ_AB,ϕ_BC,ϕ_A] ... OK!!\n",
            "Testing  eliminate_var [\"A\", \"B\", \"C\"] from [ϕ_ABC] ... OK!!\n"
          ]
        }
      ]
    },
    {
      "cell_type": "code",
      "metadata": {
        "id": "Uu8jtdUkVd7N"
      },
      "source": [
        "def _check_obs(var, val, vars, vals):\n",
        "    if var in vars:\n",
        "        return vals[vars.index(var)] == val\n",
        "    else:\n",
        "        return True\n",
        "\n",
        "\n",
        "def _check_conds(vars, vals, Z):\n",
        "    return all(map(lambda obs: _check_obs(obs[0], obs[1], vars, vals), Z.items()))\n",
        "\n",
        "\n",
        "def _apply_conds(Z, phi):\n",
        "    new_vals = {val: pr for (val, pr) in phi.values.items() if _check_conds(phi.vars, val, Z)}\n",
        "    return Factor(vars = phi.vars, values = new_vals)\n",
        "\n",
        "\n",
        "def condition_factors(Phi, Z, verbose=False):\n",
        "    # Cerinta 5\n",
        "    return [_apply_conds(Z, phi) for phi in Phi]"
      ],
      "execution_count": 16,
      "outputs": []
    },
    {
      "cell_type": "code",
      "metadata": {
        "colab": {
          "base_uri": "https://localhost:8080/"
        },
        "id": "B0KK46H7VfiZ",
        "outputId": "91978714-9fa8-45a0-db65-5fbde818b253"
      },
      "source": [
        "# Un exemplu\n",
        "print(\"Aplicand B=0 in factorul\")\n",
        "print_factor(phi_ABC)\n",
        "print(\"=>\")\n",
        "print_factor(condition_factors([phi_ABC], {\"B\": 0})[0])"
      ],
      "execution_count": 17,
      "outputs": [
        {
          "output_type": "stream",
          "name": "stdout",
          "text": [
            "Aplicand B=0 in factorul\n",
            "\t--+---+---+---------\n",
            "\tA | B | C | ϕ(A,B,C)\n",
            "\t--+---+---+---------\n",
            "\t0 | 0 | 0 | 0.1\n",
            "\t0 | 0 | 1 | 0.9\n",
            "\t0 | 1 | 0 | 0.8\n",
            "\t0 | 1 | 1 | 0.2\n",
            "\t1 | 0 | 0 | 0.7\n",
            "\t1 | 0 | 1 | 0.4\n",
            "\t1 | 1 | 0 | 0.5\n",
            "\t1 | 1 | 1 | 0.5\n",
            "\t--+---+---+---------\n",
            "=>\n",
            "\t--+---+---+---------\n",
            "\tA | B | C | ϕ(A,B,C)\n",
            "\t--+---+---+---------\n",
            "\t0 | 0 | 0 | 0.1\n",
            "\t0 | 0 | 1 | 0.9\n",
            "\t1 | 0 | 0 | 0.7\n",
            "\t1 | 0 | 1 | 0.4\n",
            "\t--+---+---+---------\n"
          ]
        }
      ]
    },
    {
      "cell_type": "code",
      "metadata": {
        "colab": {
          "base_uri": "https://localhost:8080/"
        },
        "id": "sO8IaR_hVhN9",
        "outputId": "80e09f02-6a0d-4470-b0b0-5abf4795cf6b"
      },
      "source": [
        "# Teste pentru condition_factors\n",
        "\n",
        "phi_ABC = Factor(vars=[\"A\", \"B\", \"C\"],\n",
        "                 values={(0, 0, 0): .1, (0, 0, 1): .9, (0, 1, 0): .8, (0, 1, 1): .2,\n",
        "                         (1, 0, 0): .7, (1, 0, 1): .4, (1, 1, 0): .5, (1, 1, 1): .5})\n",
        "\n",
        "_phi = condition_factors([phi_ABC], {\"B\": 0})[0]\n",
        "assert sorted(_phi.vars) == [\"A\", \"B\", \"C\"]\n",
        "assert len(_phi.values) == 4 and abs(_phi.values[(0, 0, 0)] - .1) < 1e-7\n",
        "_phi = condition_factors([phi_ABC], {\"B\": 0, \"A\": 1})[0]\n",
        "assert sorted(_phi.vars) == [\"A\", \"B\", \"C\"] and len(_phi.values) == 2\n",
        "print(\"Condition factors seems ok!\")"
      ],
      "execution_count": 18,
      "outputs": [
        {
          "output_type": "stream",
          "name": "stdout",
          "text": [
            "Condition factors seems ok!\n"
          ]
        }
      ]
    },
    {
      "cell_type": "code",
      "metadata": {
        "id": "zoTwdDfdVjJr"
      },
      "source": [
        "from random import shuffle\n",
        "\n",
        "def query(X, Y, Z, Phi, Other=None, verbose=False):\n",
        "    \"\"\"\n",
        "    X - full list of variables\n",
        "    Y - query variables\n",
        "    Z - dictionary with observations\n",
        "    Phi - the list with all factor\n",
        "    Ohter - an order over variables in X \\ (Y U Z); None to pick a random one\n",
        "    verbose - display factors as they are created\n",
        "    \"\"\"\n",
        "\n",
        "    if verbose:\n",
        "        print(\"\\n-------------\\nInitial factors:\")\n",
        "        for phi in Phi:\n",
        "            print_factor(phi)\n",
        "\n",
        "    Phi = condition_factors(Phi, Z, verbose=verbose)  # Condition factors on Z=z\n",
        "\n",
        "    if Other is None:\n",
        "        Other = [x for x in X if (x not in Y and x not in Z)]  # Variables that need to be eliminated\n",
        "        shuffle(Other)\n",
        "    else:\n",
        "        assert sorted(Other) == sorted([x for x in X if (x not in Y and x not in Z)])\n",
        "    if verbose:\n",
        "        print(\"\\n-------------\\nEliminating variables in the following order: \" + \",\".join(Other))\n",
        "\n",
        "    phi = variable_elimination(Phi, Other, verbose=verbose)  # Eliminate other variables then Y and Z\n",
        "    \n",
        "    # Normalize factor to represent the conditional probability p(Y|Z=z)\n",
        "    s = sum(phi.values.values())\n",
        "    prob = Factor(vars=phi.vars, values={k: v / s for (k, v) in phi.values.items()})\n",
        "    print(\"\\n-----------------\\nProbabilitatea ceruta:\")\n",
        "    print_factor(prob)"
      ],
      "execution_count": 19,
      "outputs": []
    },
    {
      "cell_type": "code",
      "metadata": {
        "id": "ZoiTbF40VlxS"
      },
      "source": [
        "phi_a = Factor(vars=[\"A\"], values={(0,): .7, (1,): .3})\n",
        "phi_b = Factor(vars=[\"B\"], values={(0,): .5, (1,): .5})\n",
        "phi_c = Factor(vars=[\"C\"], values={(0,): .4, (1,): .6})\n",
        "\n",
        "phi_d = Factor(vars=[\"A\", \"B\", \"D\"],\n",
        "               values={(0, 0, 0): .75, (0, 0, 1): .25, (0, 1, 0): .7, (0, 1, 1): .3,\n",
        "                       (1, 0, 0): .6, (1, 0, 1): .4, (1, 1, 0): .2, (1, 1, 1): .8\n",
        "                      })\n",
        "phi_e = Factor(vars=[\"C\", \"E\"],\n",
        "               values={(0, 0): .25, (0, 1): .75, (1, 0): .75, (1, 1): .25})\n",
        "\n",
        "phi_f = Factor(vars=[\"A\", \"D\", \"F\"],\n",
        "               values={(0, 0, 0): .6, (0, 0, 1): .4, (0, 1, 0): .4, (0, 1, 1): .6,\n",
        "                       (1, 0, 0): .7, (1, 0, 1): .3, (1, 1, 0): .8, (1, 1, 1): .2\n",
        "                      })\n",
        "phi_g = Factor(vars=[\"D\", \"E\", \"G\"],\n",
        "               values={(0, 0, 0): .1, (0, 0, 1): .9, (0, 1, 0): .2, (0, 1, 1): .8,\n",
        "                       (1, 0, 0): .5, (1, 0, 1): .5, (1, 1, 0): .4, (1, 1, 1): .6\n",
        "                      })\n",
        "\n",
        "all_vars = [\"A\", \"B\", \"C\", \"D\", \"E\", \"F\", \"G\"]\n",
        "Phi = [phi_a, phi_b, phi_c, phi_d, phi_e, phi_f, phi_g]"
      ],
      "execution_count": 20,
      "outputs": []
    },
    {
      "cell_type": "code",
      "metadata": {
        "colab": {
          "base_uri": "https://localhost:8080/"
        },
        "id": "kvIIzI-iVnt_",
        "outputId": "cc73f9f3-1ac5-493e-bf9c-3d06f4c530c1"
      },
      "source": [
        "# Algoritmul ar trebui să ajungă la probabilitățile din tabele\n",
        "\n",
        "# Verificati ca algoritmul \"ajunge\" corect la valorile din tabele\n",
        "query(all_vars, [\"F\"], {\"A\": 0, \"D\": 1}, Phi)\n",
        "query(all_vars, [\"G\"], {\"D\": 0, \"E\": 1}, Phi)"
      ],
      "execution_count": 21,
      "outputs": [
        {
          "output_type": "stream",
          "name": "stdout",
          "text": [
            "\n",
            "-----------------\n",
            "Probabilitatea ceruta:\n",
            "\t--+---+---+---------\n",
            "\tD | A | F | ϕ(D,A,F)\n",
            "\t--+---+---+---------\n",
            "\t1 | 0 | 0 | 0.39999999999999997\n",
            "\t1 | 0 | 1 | 0.6\n",
            "\t--+---+---+---------\n",
            "\n",
            "-----------------\n",
            "Probabilitatea ceruta:\n",
            "\t--+---+---+---------\n",
            "\tD | E | G | ϕ(D,E,G)\n",
            "\t--+---+---+---------\n",
            "\t0 | 1 | 0 | 0.2\n",
            "\t0 | 1 | 1 | 0.8\n",
            "\t--+---+---+---------\n"
          ]
        }
      ]
    },
    {
      "cell_type": "code",
      "metadata": {
        "id": "VEWMLp-NVrK7",
        "outputId": "f1d40f80-3542-47c7-da08-dbc33b6a9d64",
        "colab": {
          "base_uri": "https://localhost:8080/"
        }
      },
      "source": [
        "# Exemplul din PDF-ul atașat\n",
        "\n",
        "query(all_vars, [\"C\", \"F\"], {\"G\": 0}, Phi, Other=[\"E\", \"B\", \"A\", \"D\"], verbose=True)"
      ],
      "execution_count": 22,
      "outputs": [
        {
          "output_type": "stream",
          "name": "stdout",
          "text": [
            "\n",
            "-------------\n",
            "Initial factors:\n",
            "\t--+-----\n",
            "\tA | ϕ(A)\n",
            "\t--+-----\n",
            "\t0 | 0.7\n",
            "\t1 | 0.3\n",
            "\t--+-----\n",
            "\t--+-----\n",
            "\tB | ϕ(B)\n",
            "\t--+-----\n",
            "\t0 | 0.5\n",
            "\t1 | 0.5\n",
            "\t--+-----\n",
            "\t--+-----\n",
            "\tC | ϕ(C)\n",
            "\t--+-----\n",
            "\t0 | 0.4\n",
            "\t1 | 0.6\n",
            "\t--+-----\n",
            "\t--+---+---+---------\n",
            "\tA | B | D | ϕ(A,B,D)\n",
            "\t--+---+---+---------\n",
            "\t0 | 0 | 0 | 0.75\n",
            "\t0 | 0 | 1 | 0.25\n",
            "\t0 | 1 | 0 | 0.7\n",
            "\t0 | 1 | 1 | 0.3\n",
            "\t1 | 0 | 0 | 0.6\n",
            "\t1 | 0 | 1 | 0.4\n",
            "\t1 | 1 | 0 | 0.2\n",
            "\t1 | 1 | 1 | 0.8\n",
            "\t--+---+---+---------\n",
            "\t--+---+-------\n",
            "\tC | E | ϕ(C,E)\n",
            "\t--+---+-------\n",
            "\t0 | 0 | 0.25\n",
            "\t0 | 1 | 0.75\n",
            "\t1 | 0 | 0.75\n",
            "\t1 | 1 | 0.25\n",
            "\t--+---+-------\n",
            "\t--+---+---+---------\n",
            "\tA | D | F | ϕ(A,D,F)\n",
            "\t--+---+---+---------\n",
            "\t0 | 0 | 0 | 0.6\n",
            "\t0 | 0 | 1 | 0.4\n",
            "\t0 | 1 | 0 | 0.4\n",
            "\t0 | 1 | 1 | 0.6\n",
            "\t1 | 0 | 0 | 0.7\n",
            "\t1 | 0 | 1 | 0.3\n",
            "\t1 | 1 | 0 | 0.8\n",
            "\t1 | 1 | 1 | 0.2\n",
            "\t--+---+---+---------\n",
            "\t--+---+---+---------\n",
            "\tD | E | G | ϕ(D,E,G)\n",
            "\t--+---+---+---------\n",
            "\t0 | 0 | 0 | 0.1\n",
            "\t0 | 0 | 1 | 0.9\n",
            "\t0 | 1 | 0 | 0.2\n",
            "\t0 | 1 | 1 | 0.8\n",
            "\t1 | 0 | 0 | 0.5\n",
            "\t1 | 0 | 1 | 0.5\n",
            "\t1 | 1 | 0 | 0.4\n",
            "\t1 | 1 | 1 | 0.6\n",
            "\t--+---+---+---------\n",
            "\n",
            "-------------\n",
            "Eliminating variables in the following order: E,B,A,D\n",
            "\n",
            "-----------------\n",
            "Probabilitatea ceruta:\n",
            "\t--+---+---+---------\n",
            "\tG | F | C | ϕ(G,F,C)\n",
            "\t--+---+---+---------\n",
            "\t0 | 0 | 0 | 0.2486419042134562\n",
            "\t0 | 1 | 0 | 0.16310586428639987\n",
            "\t0 | 0 | 1 | 0.35367117765620504\n",
            "\t0 | 1 | 1 | 0.23458105384393896\n",
            "\t--+---+---+---------\n"
          ]
        }
      ]
    }
  ]
}