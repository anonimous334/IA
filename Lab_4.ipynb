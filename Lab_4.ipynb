{
  "nbformat": 4,
  "nbformat_minor": 0,
  "metadata": {
    "colab": {
      "name": "Lab_4_IA_Stanescu_Alexandru_344C3ipynb",
      "provenance": []
    },
    "kernelspec": {
      "name": "python3",
      "display_name": "Python 3"
    },
    "language_info": {
      "name": "python"
    }
  },
  "cells": [
    {
      "cell_type": "code",
      "metadata": {
        "colab": {
          "base_uri": "https://localhost:8080/"
        },
        "id": "h-OZnLrv7Fhx",
        "outputId": "6661d3b6-6e68-4b27-ec43-f17a945fd0a7"
      },
      "source": [
        "# Dimensiunile matricei\n",
        "HEIGHT, WIDTH = 6, 7\n",
        "\n",
        "# Pozițiile din tuplul ce constituie o stare\n",
        "BOARD, NEXT_PLAYER = 0, 1\n",
        "\n",
        "# Jucătorii\n",
        "RED, BLUE = 1, 2\n",
        "name = [\"\", \"ROȘU\", \"ALBASTRU\", \"REMIZĂ\"]\n",
        "\n",
        "# Funcție ce întoarce o stare inițială\n",
        "def init_state():\n",
        "    return ([[0 for row in range(HEIGHT)] for col in range(WIDTH)], RED)\n",
        "\n",
        "# Funcție ce afișează o stare\n",
        "def print_state(state):\n",
        "    for row in range(HEIGHT - 1, -1, -1):\n",
        "        ch = \" RA\"\n",
        "        l = map(lambda col: ch[state[BOARD][col][row]], range(WIDTH))\n",
        "        print(\"|\" + \"\".join(l) + \"|\")\n",
        "    print(\"+\" + \"\".join(\"-\" * WIDTH) + \"+\")\n",
        "    print(f\"Urmează: {state[NEXT_PLAYER]} - {name[state[NEXT_PLAYER]]}\")\n",
        "\n",
        "# Se afișează starea inițială a jocului\n",
        "print(\"Starea inițială:\")\n",
        "print_state(init_state())"
      ],
      "execution_count": 3,
      "outputs": [
        {
          "output_type": "stream",
          "name": "stdout",
          "text": [
            "Starea inițială:\n",
            "|       |\n",
            "|       |\n",
            "|       |\n",
            "|       |\n",
            "|       |\n",
            "|       |\n",
            "+-------+\n",
            "Urmează: 1 - ROȘU\n"
          ]
        }
      ]
    },
    {
      "cell_type": "code",
      "metadata": {
        "id": "zT2CGLVm7Qu5",
        "colab": {
          "base_uri": "https://localhost:8080/"
        },
        "outputId": "dd5c9299-573f-40d3-9b43-f1e437f0fb1e"
      },
      "source": [
        "# Funcție ce întoarce acțiunile valide dintr-o stare dată\n",
        "def get_available_actions(state):\n",
        "    moves = []\n",
        "\n",
        "    for i in range(len(state[BOARD])):\n",
        "        if any(cell == 0 for cell in state[BOARD][i]):\n",
        "            moves.append(i)\n",
        "\n",
        "    return moves\n",
        "\n",
        "\n",
        "from copy import deepcopy\n",
        "from functools import reduce\n",
        "\n",
        "# Funcție ce întoarce starea în care se ajunge prin aplicarea unei acțiuni\n",
        "def apply_action(state, action):\n",
        "    new_board = deepcopy(state[BOARD])\n",
        "    new_board[action][new_board[action].index(0,0)] = state[NEXT_PLAYER]\n",
        "    return (new_board, 3 - state[NEXT_PLAYER])\n",
        "\n",
        "\n",
        "# Se afișează starea la care se ajunge prin aplicarea unor acțiuni\n",
        "somestate = reduce(apply_action, [3, 4, 3, 2, 2, 6, 3, 3, 3, 3], init_state())\n",
        "print_state(somestate)\n",
        "get_available_actions(somestate)"
      ],
      "execution_count": 4,
      "outputs": [
        {
          "output_type": "stream",
          "name": "stdout",
          "text": [
            "|   A   |\n",
            "|   R   |\n",
            "|   A   |\n",
            "|   R   |\n",
            "|  RR   |\n",
            "|  ARA A|\n",
            "+-------+\n",
            "Urmează: 1 - ROȘU\n"
          ]
        },
        {
          "output_type": "execute_result",
          "data": {
            "text/plain": [
              "[0, 1, 2, 4, 5, 6]"
            ]
          },
          "metadata": {},
          "execution_count": 4
        }
      ]
    },
    {
      "cell_type": "code",
      "metadata": {
        "id": "4gTN4w35TIAN"
      },
      "source": [
        "# Funcție ce verifică dacă o stare este finală\n",
        "def is_final(state):\n",
        "    # Verificăm dacă matricea este plină\n",
        "    if not any([0 in col for col in state[BOARD]]): return 3\n",
        "    # Jucătorul care doar ce a mutat ar putea să fie câștigător\n",
        "    player = 3 - state[NEXT_PLAYER]\n",
        "    \n",
        "    ok = lambda pos: all([state[BOARD][c][r] == player for (r, c) in pos])\n",
        "    # Verificăm verticale\n",
        "    for row in range(HEIGHT):\n",
        "        for col in range(WIDTH - 4):\n",
        "            if ok([(row, col + i) for i in range(4)]): return player\n",
        "    # Verificăm orizontale\n",
        "    for col in range(WIDTH):\n",
        "        for row in range(HEIGHT - 4):\n",
        "            if ok([(row + i, col) for i in range(4)]): return player\n",
        "    # Verificăm diagonale\n",
        "    for col in range(WIDTH - 4):\n",
        "        for row in range(HEIGHT - 4):\n",
        "            if ok([(row + i, col + i) for i in range(4)]): return player\n",
        "    for col in range(WIDTH-4):\n",
        "        for row in range(HEIGHT - 4):\n",
        "            if ok([(row + i, col + 4 - i) for i in range(4)]): return player\n",
        "    return False"
      ],
      "execution_count": 5,
      "outputs": []
    },
    {
      "cell_type": "code",
      "metadata": {
        "colab": {
          "base_uri": "https://localhost:8080/"
        },
        "id": "Ico9-ThTTOPy",
        "outputId": "e9755db1-9c66-416b-b32d-db77aad9fead"
      },
      "source": [
        "# Afișăm o stare finală oarecare\n",
        "from random import choice\n",
        "\n",
        "rand_state = init_state()\n",
        "while not is_final(rand_state):\n",
        "    actions = get_available_actions(rand_state)\n",
        "    if not actions:\n",
        "        break\n",
        "    action = choice(get_available_actions(rand_state))\n",
        "    rand_state = apply_action(rand_state, action)\n",
        "\n",
        "print_state(rand_state)\n",
        "print(f\"Învingător: {name[is_final(rand_state)]}\")"
      ],
      "execution_count": 6,
      "outputs": [
        {
          "output_type": "stream",
          "name": "stdout",
          "text": [
            "|       |\n",
            "|       |\n",
            "|  ARAR |\n",
            "|RARRRAA|\n",
            "|ARAARRR|\n",
            "|RRAAARA|\n",
            "+-------+\n",
            "Urmează: 2 - ALBASTRU\n",
            "Învingător: ROȘU\n"
          ]
        }
      ]
    },
    {
      "cell_type": "code",
      "metadata": {
        "colab": {
          "base_uri": "https://localhost:8080/"
        },
        "id": "WtxolkPeTTOZ",
        "outputId": "a08085fd-53a1-4824-da85-0991c4d43ba1"
      },
      "source": [
        "# Exemplu: Se afișează starea obținută prin aplicarea unor acțiuni\n",
        "all_actions = [1, 2, 1, 3, 1, 4, 2, 5]\n",
        "some_state = reduce(apply_action, all_actions, init_state())\n",
        "print_state(some_state)\n",
        "print(f\"Învingător: {name[is_final(some_state)]}\")"
      ],
      "execution_count": 7,
      "outputs": [
        {
          "output_type": "stream",
          "name": "stdout",
          "text": [
            "|       |\n",
            "|       |\n",
            "|       |\n",
            "| R     |\n",
            "| RR    |\n",
            "| RAAAA |\n",
            "+-------+\n",
            "Urmează: 1 - ROȘU\n",
            "Învingător: ALBASTRU\n"
          ]
        }
      ]
    },
    {
      "cell_type": "code",
      "metadata": {
        "id": "Vw1fJpznTVHm"
      },
      "source": [
        "# Constante\n",
        "\n",
        "N = 'N'\n",
        "Q = 'Q'\n",
        "PARENT = 'parent'\n",
        "ACTIONS = 'actions'"
      ],
      "execution_count": 10,
      "outputs": []
    },
    {
      "cell_type": "code",
      "metadata": {
        "id": "JrHsZF0ITXAN"
      },
      "source": [
        "def print_tree(tree, indent = 0):\n",
        "    if not tree:\n",
        "        return\n",
        "    tab = \"\".join(\" \" * indent)\n",
        "    print(f\"{tab}N = {tree[N]}, Q = {tree[Q]}\")\n",
        "    for a in tree[ACTIONS]:\n",
        "        print(f\"{tab} {a} => \")\n",
        "        print_tree(tree[ACTIONS][a], indent + 3)\n",
        "\n",
        "\n",
        "def number_of_nodes(tree):\n",
        "    if not tree:\n",
        "        return 0\n",
        "    no = 1\n",
        "    for child in tree[ACTIONS].values():\n",
        "        no += number_of_nodes(child)\n",
        "    return no"
      ],
      "execution_count": 11,
      "outputs": []
    },
    {
      "cell_type": "code",
      "metadata": {
        "id": "QgEsD3OWTmIe"
      },
      "source": [
        "# Funcție ce întoarce un nod nou,\n",
        "# eventual copilul unui nod dat ca argument\n",
        "def init_node(parent = None):\n",
        "    return {N: 0, Q: 0, PARENT: parent, ACTIONS: {}}"
      ],
      "execution_count": 12,
      "outputs": []
    },
    {
      "cell_type": "code",
      "metadata": {
        "colab": {
          "base_uri": "https://localhost:8080/"
        },
        "id": "2EBHuOPzTrfW",
        "outputId": "d43fdc53-c71c-4b02-a3eb-b1941491fbd5"
      },
      "source": [
        "from math import sqrt, log\n",
        "import numpy as np\n",
        "\n",
        "CP = 1.0 / sqrt(2.0)\n",
        "\n",
        "# Funcție ce alege o acțiune dintr-un nod\n",
        "def select_action(node, c = CP):\n",
        "    \"\"\"\n",
        "    Se caută acțiunea a care maximizează expresia:\n",
        "    Q_a / N_a  +  c * sqrt(2 * log(N_node) / N_a)\n",
        "    \"\"\"\n",
        "    N_node = node[N]\n",
        "    max_score = -1\n",
        "    best_action = None\n",
        "\n",
        "    for a, n in node[ACTIONS].items():\n",
        "        crt_score = n[Q] / n[N] + c * sqrt(2 * log(N_node) / n[N])\n",
        "\n",
        "        if max_score < crt_score:\n",
        "            max_score = crt_score\n",
        "            best_action = a\n",
        "\n",
        "    return best_action\n",
        "\n",
        "# Scurtă testare\n",
        "test_root = {N: 6, Q: 0.75, PARENT: None, ACTIONS: {}}\n",
        "test_root[ACTIONS][3] = {N: 4, Q: 0.9, PARENT: test_root, ACTIONS: {}}\n",
        "test_root[ACTIONS][5] = {N: 2, Q: 0.1, PARENT: test_root, ACTIONS: {}}\n",
        "\n",
        "print(select_action(test_root, CP))  # ==> 5 (0.8942 < 0.9965)\n",
        "print(select_action(test_root, 0.3)) # ==> 3 (0.50895 > 0.45157)"
      ],
      "execution_count": 13,
      "outputs": [
        {
          "output_type": "stream",
          "name": "stdout",
          "text": [
            "5\n",
            "3\n"
          ]
        }
      ]
    },
    {
      "cell_type": "code",
      "metadata": {
        "id": "4wl6wf7UTsux"
      },
      "source": [
        "# Algoritmul MCTS (UCT)\n",
        "#  state0 - starea pentru care trebuie aleasă o acțiune\n",
        "#  budget - numărul de iterații permis\n",
        "#  tree - un arbore din explorările anterioare\n",
        "#  opponent_s_action - ultima acțiune a adversarului\n",
        "\n",
        "def mcts(state0, budget, tree, opponent_s_action = None):\n",
        "    # DACĂ există un arbore construit anterior ȘI\n",
        "    #   acesta are un copil ce corespunde ultimei acțiuni a adversarului,\n",
        "    # ATUNCI acel copil va deveni nodul de început pentru algoritm.\n",
        "    # ALTFEL, arborele de start este un nod gol.\n",
        "    if tree and opponent_s_action in tree[ACTIONS]:\n",
        "        tree = tree[ACTIONS][opponent_s_action]\n",
        "    else:\n",
        "        tree = init_node()\n",
        "    \n",
        "    #---------------------------------------------------------------\n",
        "    for x in range(budget):\n",
        "        # Punctul de start al simulării va fi rădăcina de start\n",
        "        state = state0\n",
        "        node = tree\n",
        "\n",
        "        # Coborâm în arbore până când ajungem la o stare finală\n",
        "        # sau la un nod cu acțiuni neexplorate.\n",
        "        # Variabilele state și node se 'mută' împreună.\n",
        "        while (not is_final(state)\n",
        "            and all(action in node[ACTIONS] for action in get_available_actions(state))\n",
        "        ):\n",
        "            new_action = select_action(node)\n",
        "            state = apply_action(state, new_action)\n",
        "            node = node[ACTIONS][new_action]\n",
        "        \n",
        "        #---------------------------------------------------------------\n",
        "        # Dacă am ajuns într-un nod care nu este final și din care nu s-au\n",
        "        # `încercat` toate acțiunile, construim un nod nou.\n",
        "        if not is_final(state):\n",
        "            new_action = choice(list(filter(lambda a: a not in node[ACTIONS], get_available_actions(state))))\n",
        "\n",
        "            state = apply_action(state, new_action)\n",
        "            node = init_node(node)\n",
        "            node[PARENT][ACTIONS][new_action] = node\n",
        "\n",
        "        #---------------------------------------------------------------\n",
        "        # Se simulează o desfășurare a jocului până la ajungerea într-o\n",
        "        # starea finală. Se evaluează recompensa în acea stare.\n",
        "        while not is_final(state):\n",
        "            state = apply_action(state, choice(get_available_actions(state)))\n",
        "        \n",
        "        winner = is_final(state)\n",
        "        if winner == state0[NEXT_PLAYER]:\n",
        "            reward = 1\n",
        "        elif winner == (3 - state0[NEXT_PLAYER]):\n",
        "            reward = 0.0\n",
        "        elif winner == 3:\n",
        "            reward = 0.25\n",
        "        else:\n",
        "            reward = 0.5\n",
        "\n",
        "        #---------------------------------------------------------------\n",
        "        # Se actualizează toate nodurile de la node către rădăcină:\n",
        "        #  - se incrementează valoarea N din fiecare nod\n",
        "        #  - se adaugă recompensa la valoarea Q\n",
        "        crt_node = node\n",
        "        while crt_node:\n",
        "            crt_node[N] += 1\n",
        "            crt_node[Q] += reward\n",
        "            crt_node = crt_node[PARENT]\n",
        "\n",
        "        #---------------------------------------------------------------\n",
        "\n",
        "    if tree:\n",
        "        final_action = select_action(tree, 0.0)\n",
        "        return (final_action, tree[ACTIONS][final_action])\n",
        "    # Acest cod este aici doar ca să nu dea erori testele mai jos; în mod normal tree nu trebuie să fie None\n",
        "    if get_available_actions(state0):\n",
        "        return (get_available_actions(state0)[0], init_node())\n",
        "    return (0, None)"
      ],
      "execution_count": 14,
      "outputs": []
    },
    {
      "cell_type": "code",
      "metadata": {
        "colab": {
          "base_uri": "https://localhost:8080/"
        },
        "id": "ae-QkQIMTvci",
        "outputId": "e5915ae7-12c1-4ac7-a210-532f006ea017"
      },
      "source": [
        "# Testare MCTS\n",
        "(action, tree) = mcts(init_state(), 20, None, None)\n",
        "print(action)\n",
        "if tree: print_tree(tree[PARENT])"
      ],
      "execution_count": 15,
      "outputs": [
        {
          "output_type": "stream",
          "name": "stdout",
          "text": [
            "3\n",
            "N = 20, Q = 12.0\n",
            " 0 => \n",
            "   N = 3, Q = 2.0\n",
            "    1 => \n",
            "      N = 1, Q = 1\n",
            "    5 => \n",
            "      N = 1, Q = 1\n",
            " 3 => \n",
            "   N = 4, Q = 3.0\n",
            "    6 => \n",
            "      N = 1, Q = 1\n",
            "    4 => \n",
            "      N = 1, Q = 1\n",
            "    2 => \n",
            "      N = 1, Q = 0.0\n",
            " 2 => \n",
            "   N = 4, Q = 3.0\n",
            "    1 => \n",
            "      N = 1, Q = 1\n",
            "    3 => \n",
            "      N = 1, Q = 1\n",
            "    6 => \n",
            "      N = 1, Q = 0.0\n",
            " 4 => \n",
            "   N = 3, Q = 2.0\n",
            "    3 => \n",
            "      N = 1, Q = 1\n",
            "    0 => \n",
            "      N = 1, Q = 1\n",
            " 5 => \n",
            "   N = 2, Q = 0.0\n",
            "    4 => \n",
            "      N = 1, Q = 0.0\n",
            " 6 => \n",
            "   N = 2, Q = 1.0\n",
            "    2 => \n",
            "      N = 1, Q = 1\n",
            " 1 => \n",
            "   N = 2, Q = 1.0\n",
            "    6 => \n",
            "      N = 1, Q = 1\n"
          ]
        }
      ]
    },
    {
      "cell_type": "code",
      "metadata": {
        "id": "xSR3rNrJTyzV"
      },
      "source": [
        "def play_games(games_no, budget1, budget2, verbose = False):\n",
        "    # Efortul de căutare al jucătorilor\n",
        "    budget = [budget1, budget2]\n",
        "    \n",
        "    score = {p: 0 for p in name}\n",
        "        \n",
        "    for i in range(games_no):\n",
        "        # Memoriile inițiale\n",
        "        memory = [None, None]\n",
        "        \n",
        "        # Se desfășoară jocul\n",
        "        state = init_state()\n",
        "        last_action = None\n",
        "    \n",
        "        while not is_final(state):\n",
        "            p = state[NEXT_PLAYER] - 1\n",
        "            (action, memory[p]) = mcts(state, budget[p], memory[p], last_action)\n",
        "            state = apply_action(state, action)\n",
        "            last_action = action\n",
        "        \n",
        "        # Cine a câștigat?\n",
        "        winner = is_final(state)\n",
        "        score[name[winner]] += + 1\n",
        "        \n",
        "        # Afișăm\n",
        "        if verbose:\n",
        "            print_state(state)\n",
        "            if winner == 3: print(\"Remiză.\")\n",
        "            else: print(f\"A câștigat {name[winner]}\")\n",
        "\n",
        "    # Afișează scorul final\n",
        "    print(f\"Scor final: {score}.\")"
      ],
      "execution_count": 17,
      "outputs": []
    },
    {
      "cell_type": "code",
      "metadata": {
        "colab": {
          "base_uri": "https://localhost:8080/"
        },
        "id": "q_tdJ0mLT1Ob",
        "outputId": "75a0aff9-5957-470f-a5f6-f285c593ae31"
      },
      "source": [
        "# play_games(N, BR, BA, VERBOSE) - rulează N jocuri, cu bugetele BR pt ROȘU și BA pt ALBASTRU\n",
        "play_games(5, 2, 30, True) # ne așteptăm să câștige ALBASTRU\n",
        "play_games(5, 30, 2, True) # ne așteptăm să câștige ROȘU"
      ],
      "execution_count": 18,
      "outputs": [
        {
          "output_type": "stream",
          "name": "stdout",
          "text": [
            "|       |\n",
            "|       |\n",
            "|  R    |\n",
            "|  RRA  |\n",
            "|A AAR  |\n",
            "|AARARRR|\n",
            "+-------+\n",
            "Urmează: 2 - ALBASTRU\n",
            "A câștigat ROȘU\n",
            "|       |\n",
            "|  A    |\n",
            "|  RAA  |\n",
            "|  ARAR |\n",
            "|R ARAA |\n",
            "|RRARRRA|\n",
            "+-------+\n",
            "Urmează: 1 - ROȘU\n",
            "A câștigat ALBASTRU\n",
            "| A    R|\n",
            "| R    R|\n",
            "| AA AAA|\n",
            "| RR AAR|\n",
            "|RAAARRR|\n",
            "|RRAARRA|\n",
            "+-------+\n",
            "Urmează: 1 - ROȘU\n",
            "A câștigat ALBASTRU\n",
            "|       |\n",
            "|       |\n",
            "|  A    |\n",
            "| RA    |\n",
            "| AA R R|\n",
            "|RAARARR|\n",
            "+-------+\n",
            "Urmează: 1 - ROȘU\n",
            "A câștigat ALBASTRU\n",
            "|       |\n",
            "|       |\n",
            "| A     |\n",
            "| AR A  |\n",
            "|RAR R  |\n",
            "|RAR A  |\n",
            "+-------+\n",
            "Urmează: 1 - ROȘU\n",
            "A câștigat ALBASTRU\n",
            "Scor final: {'': 0, 'ROȘU': 1, 'ALBASTRU': 4, 'REMIZĂ': 0}.\n",
            "|       |\n",
            "|       |\n",
            "|    A  |\n",
            "|    A  |\n",
            "|    A  |\n",
            "|  RRRR |\n",
            "+-------+\n",
            "Urmează: 2 - ALBASTRU\n",
            "A câștigat ROȘU\n",
            "|       |\n",
            "|       |\n",
            "|  R    |\n",
            "|  R   R|\n",
            "|  R A A|\n",
            "|AAR A R|\n",
            "+-------+\n",
            "Urmează: 2 - ALBASTRU\n",
            "A câștigat ROȘU\n",
            "|       |\n",
            "|       |\n",
            "| R     |\n",
            "| RA  A |\n",
            "| RR AA |\n",
            "| RA RRA|\n",
            "+-------+\n",
            "Urmează: 2 - ALBASTRU\n",
            "A câștigat ROȘU\n",
            "|       |\n",
            "|       |\n",
            "|       |\n",
            "|  A    |\n",
            "|ARRRRAA|\n",
            "|RRAAARR|\n",
            "+-------+\n",
            "Urmează: 2 - ALBASTRU\n",
            "A câștigat ROȘU\n",
            "|       |\n",
            "|       |\n",
            "|  R    |\n",
            "|  R    |\n",
            "|A R    |\n",
            "|A R   A|\n",
            "+-------+\n",
            "Urmează: 2 - ALBASTRU\n",
            "A câștigat ROȘU\n",
            "Scor final: {'': 0, 'ROȘU': 5, 'ALBASTRU': 0, 'REMIZĂ': 0}.\n"
          ]
        }
      ]
    }
  ]
}